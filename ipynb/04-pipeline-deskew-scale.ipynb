{
 "cells": [
  {
   "cell_type": "markdown",
   "metadata": {},
   "source": [
    "# Deskew and Scale\n",
    "\n",
    "####  Goals\n",
    "* `train_test_split`.\n",
    "* Deskew using `BoxCoxTransformer` and scale using `StandardScaler`.\n",
    "* Encode the categorical features.\n",
    "* Replace raw numeric features in dummy set with deskewed and scaled values.\n",
    "\n",
    "#### Output\n",
    "* DataFrames ready for benchmark model scoring."
   ]
  },
  {
   "cell_type": "code",
   "execution_count": 1,
   "metadata": {},
   "outputs": [
    {
     "name": "stdout",
     "output_type": "stream",
     "text": [
      "/home/jovyan/dsi/CAPSTONE\n"
     ]
    }
   ],
   "source": [
    "cd .."
   ]
  },
  {
   "cell_type": "code",
   "execution_count": 2,
   "metadata": {},
   "outputs": [],
   "source": [
    "%run lib/__init__.py\n",
    "%matplotlib inline"
   ]
  },
  {
   "cell_type": "markdown",
   "metadata": {},
   "source": [
    "## 0. Load Data"
   ]
  },
  {
   "cell_type": "code",
   "execution_count": 3,
   "metadata": {
    "scrolled": false
   },
   "outputs": [
    {
     "data": {
      "text/plain": [
       "(1038, 102)"
      ]
     },
     "execution_count": 3,
     "metadata": {},
     "output_type": "execute_result"
    }
   ],
   "source": [
    "# the whole dataset. numeric and categorical together.\n",
    "commute_df = pd.read_pickle('./data/dropped_correlated_features_df.pkl')\n",
    "commute_df.shape"
   ]
  },
  {
   "cell_type": "code",
   "execution_count": 4,
   "metadata": {},
   "outputs": [
    {
     "data": {
      "text/plain": [
       "(55, 8)"
      ]
     },
     "execution_count": 4,
     "metadata": {},
     "output_type": "execute_result"
    }
   ],
   "source": [
    "# to get a list of the numerical columns\n",
    "commute_stats_df = pd.read_pickle('./data/commute_stats_dropped_correlated_features_df.pkl')\n",
    "commute_stats_df.shape"
   ]
  },
  {
   "cell_type": "code",
   "execution_count": 5,
   "metadata": {},
   "outputs": [],
   "source": [
    "data_set   = commute_df.drop(['Alone_Share'], axis=1)\n",
    "target_set = commute_df['Alone_Share']"
   ]
  },
  {
   "cell_type": "code",
   "execution_count": 6,
   "metadata": {},
   "outputs": [],
   "source": [
    "X_train, X_test, y_train, y_test = train_test_split(data_set, target_set, test_size=0.3)"
   ]
  },
  {
   "cell_type": "code",
   "execution_count": 7,
   "metadata": {},
   "outputs": [
    {
     "data": {
      "text/plain": [
       "((726, 101), (726,), (312, 101), (312,))"
      ]
     },
     "execution_count": 7,
     "metadata": {},
     "output_type": "execute_result"
    }
   ],
   "source": [
    "X_train.shape, y_train.shape, X_test.shape, y_test.shape"
   ]
  },
  {
   "cell_type": "markdown",
   "metadata": {},
   "source": [
    "## 1. Identify Numerical Features in `commute_df`\n",
    "* Make a DataFrame only containing numerical features"
   ]
  },
  {
   "cell_type": "code",
   "execution_count": 8,
   "metadata": {
    "scrolled": true
   },
   "outputs": [],
   "source": [
    "numerical_columns = list(commute_stats_df.index)\n",
    "numerical_columns.remove('Alone_Share')"
   ]
  },
  {
   "cell_type": "code",
   "execution_count": 9,
   "metadata": {},
   "outputs": [],
   "source": [
    "X_train_numeric = X_train[numerical_columns]\n",
    "X_test_numeric  = X_test[numerical_columns]"
   ]
  },
  {
   "cell_type": "code",
   "execution_count": 10,
   "metadata": {
    "scrolled": true
   },
   "outputs": [],
   "source": [
    "# add a small amount to everything so that I can use boxcox\n",
    "X_train_numeric += 1E-9\n",
    "X_test_numeric += 1E-9"
   ]
  },
  {
   "cell_type": "markdown",
   "metadata": {},
   "source": [
    "## 2. Pipeline Build"
   ]
  },
  {
   "cell_type": "code",
   "execution_count": 11,
   "metadata": {},
   "outputs": [],
   "source": [
    "from lib.preprocessing import BoxCoxTransformer"
   ]
  },
  {
   "cell_type": "code",
   "execution_count": 12,
   "metadata": {},
   "outputs": [],
   "source": [
    "pipeline = Pipeline([\n",
    "    ('boxcox'  , BoxCoxTransformer()),\n",
    "    ('ss'      , StandardScaler())\n",
    "])"
   ]
  },
  {
   "cell_type": "code",
   "execution_count": 13,
   "metadata": {},
   "outputs": [],
   "source": [
    "X_train_scaled = pipeline.fit_transform(X_train_numeric)"
   ]
  },
  {
   "cell_type": "code",
   "execution_count": 14,
   "metadata": {},
   "outputs": [],
   "source": [
    "X_test_scaled = pipeline.transform(X_test_numeric)"
   ]
  },
  {
   "cell_type": "markdown",
   "metadata": {},
   "source": [
    "## 3. Represent Deskewed/Scaled Data in DataFrames\n",
    "* `X_train_scaled_df`.\n",
    "* `X_test_scaled_df`."
   ]
  },
  {
   "cell_type": "code",
   "execution_count": 15,
   "metadata": {},
   "outputs": [
    {
     "data": {
      "text/html": [
       "<div>\n",
       "<table border=\"1\" class=\"dataframe\">\n",
       "  <thead>\n",
       "    <tr style=\"text-align: right;\">\n",
       "      <th></th>\n",
       "      <th>Response_Rate</th>\n",
       "      <th>Total_Employees</th>\n",
       "      <th>Goal_VMT</th>\n",
       "      <th>Total_VMT</th>\n",
       "      <th>Total_Goal_VMT</th>\n",
       "      <th>Goal_NDAT_Rate_(Worksite_only)</th>\n",
       "      <th>Total_Goal_NDAT_Trips</th>\n",
       "      <th>Total_Annual_Greenhouse_Gas_Emissions_-__All_Employees_(Metric_Tons_CO2e)</th>\n",
       "      <th>GHGforAgg_(Pounds)</th>\n",
       "      <th>Total_Weekly_Trips</th>\n",
       "      <th>...</th>\n",
       "      <th>num_employees_using_bike_subsidy</th>\n",
       "      <th>num_employees_using_other_transportation_subsidy</th>\n",
       "      <th>num_parking_spaces_reserved_for_employee_usage</th>\n",
       "      <th>num_HOV_parking_spaces</th>\n",
       "      <th>num_shared_parking_spaces</th>\n",
       "      <th>cost_of_program_in_past_year</th>\n",
       "      <th>cost_of_meeting_program_requirements</th>\n",
       "      <th>cost_of_financial_incentives_subsidies_paid_to_employees</th>\n",
       "      <th>cost_of_facility_upkeep</th>\n",
       "      <th>cost_of_other</th>\n",
       "    </tr>\n",
       "  </thead>\n",
       "  <tbody>\n",
       "    <tr>\n",
       "      <th>523</th>\n",
       "      <td>0.437152</td>\n",
       "      <td>0.463558</td>\n",
       "      <td>0.537554</td>\n",
       "      <td>0.812380</td>\n",
       "      <td>0.648889</td>\n",
       "      <td>0.315736</td>\n",
       "      <td>-0.456055</td>\n",
       "      <td>0.576900</td>\n",
       "      <td>0.822272</td>\n",
       "      <td>0.800148</td>\n",
       "      <td>...</td>\n",
       "      <td>2.114425</td>\n",
       "      <td>2.658552</td>\n",
       "      <td>0.975558</td>\n",
       "      <td>-0.683034</td>\n",
       "      <td>-0.646379</td>\n",
       "      <td>0.558697</td>\n",
       "      <td>0.937415</td>\n",
       "      <td>1.050897</td>\n",
       "      <td>-0.648478</td>\n",
       "      <td>-0.424837</td>\n",
       "    </tr>\n",
       "    <tr>\n",
       "      <th>421</th>\n",
       "      <td>-0.486390</td>\n",
       "      <td>0.868731</td>\n",
       "      <td>0.711178</td>\n",
       "      <td>1.447592</td>\n",
       "      <td>0.402041</td>\n",
       "      <td>0.467714</td>\n",
       "      <td>-0.456055</td>\n",
       "      <td>1.294936</td>\n",
       "      <td>1.451067</td>\n",
       "      <td>1.022063</td>\n",
       "      <td>...</td>\n",
       "      <td>-0.473585</td>\n",
       "      <td>-0.376177</td>\n",
       "      <td>1.055351</td>\n",
       "      <td>1.462402</td>\n",
       "      <td>1.576897</td>\n",
       "      <td>0.450305</td>\n",
       "      <td>0.713476</td>\n",
       "      <td>1.020397</td>\n",
       "      <td>-0.648478</td>\n",
       "      <td>-0.424837</td>\n",
       "    </tr>\n",
       "    <tr>\n",
       "      <th>1018</th>\n",
       "      <td>1.367102</td>\n",
       "      <td>-0.646111</td>\n",
       "      <td>0.054266</td>\n",
       "      <td>-0.662309</td>\n",
       "      <td>0.044093</td>\n",
       "      <td>0.565948</td>\n",
       "      <td>-0.456055</td>\n",
       "      <td>-0.853712</td>\n",
       "      <td>-0.653843</td>\n",
       "      <td>-0.199223</td>\n",
       "      <td>...</td>\n",
       "      <td>-0.473585</td>\n",
       "      <td>-0.376177</td>\n",
       "      <td>0.837192</td>\n",
       "      <td>-0.683034</td>\n",
       "      <td>-0.646379</td>\n",
       "      <td>0.414610</td>\n",
       "      <td>0.715195</td>\n",
       "      <td>0.999402</td>\n",
       "      <td>-0.648478</td>\n",
       "      <td>-0.424837</td>\n",
       "    </tr>\n",
       "    <tr>\n",
       "      <th>515</th>\n",
       "      <td>0.699034</td>\n",
       "      <td>0.139750</td>\n",
       "      <td>0.406376</td>\n",
       "      <td>-0.561566</td>\n",
       "      <td>0.102160</td>\n",
       "      <td>0.124206</td>\n",
       "      <td>-0.456055</td>\n",
       "      <td>0.076098</td>\n",
       "      <td>-0.609912</td>\n",
       "      <td>-0.991342</td>\n",
       "      <td>...</td>\n",
       "      <td>-0.473585</td>\n",
       "      <td>-0.376177</td>\n",
       "      <td>0.808302</td>\n",
       "      <td>1.422390</td>\n",
       "      <td>-0.646379</td>\n",
       "      <td>0.558697</td>\n",
       "      <td>0.802323</td>\n",
       "      <td>0.792646</td>\n",
       "      <td>1.545325</td>\n",
       "      <td>-0.424837</td>\n",
       "    </tr>\n",
       "    <tr>\n",
       "      <th>89</th>\n",
       "      <td>-1.112634</td>\n",
       "      <td>-1.503700</td>\n",
       "      <td>0.747509</td>\n",
       "      <td>-0.238811</td>\n",
       "      <td>0.297416</td>\n",
       "      <td>0.203777</td>\n",
       "      <td>-0.456055</td>\n",
       "      <td>-0.118634</td>\n",
       "      <td>-0.223700</td>\n",
       "      <td>-1.705242</td>\n",
       "      <td>...</td>\n",
       "      <td>-0.473585</td>\n",
       "      <td>-0.376177</td>\n",
       "      <td>0.860793</td>\n",
       "      <td>-0.683034</td>\n",
       "      <td>-0.646379</td>\n",
       "      <td>0.066609</td>\n",
       "      <td>0.719976</td>\n",
       "      <td>0.816699</td>\n",
       "      <td>-0.648478</td>\n",
       "      <td>-0.424837</td>\n",
       "    </tr>\n",
       "  </tbody>\n",
       "</table>\n",
       "<p>5 rows × 54 columns</p>\n",
       "</div>"
      ],
      "text/plain": [
       "      Response_Rate  Total_Employees  Goal_VMT  Total_VMT  Total_Goal_VMT  \\\n",
       "523        0.437152         0.463558  0.537554   0.812380        0.648889   \n",
       "421       -0.486390         0.868731  0.711178   1.447592        0.402041   \n",
       "1018       1.367102        -0.646111  0.054266  -0.662309        0.044093   \n",
       "515        0.699034         0.139750  0.406376  -0.561566        0.102160   \n",
       "89        -1.112634        -1.503700  0.747509  -0.238811        0.297416   \n",
       "\n",
       "      Goal_NDAT_Rate_(Worksite_only)  Total_Goal_NDAT_Trips  \\\n",
       "523                         0.315736              -0.456055   \n",
       "421                         0.467714              -0.456055   \n",
       "1018                        0.565948              -0.456055   \n",
       "515                         0.124206              -0.456055   \n",
       "89                          0.203777              -0.456055   \n",
       "\n",
       "      Total_Annual_Greenhouse_Gas_Emissions_-__All_Employees_(Metric_Tons_CO2e)  \\\n",
       "523                                            0.576900                           \n",
       "421                                            1.294936                           \n",
       "1018                                          -0.853712                           \n",
       "515                                            0.076098                           \n",
       "89                                            -0.118634                           \n",
       "\n",
       "      GHGforAgg_(Pounds)  Total_Weekly_Trips      ...        \\\n",
       "523             0.822272            0.800148      ...         \n",
       "421             1.451067            1.022063      ...         \n",
       "1018           -0.653843           -0.199223      ...         \n",
       "515            -0.609912           -0.991342      ...         \n",
       "89             -0.223700           -1.705242      ...         \n",
       "\n",
       "      num_employees_using_bike_subsidy  \\\n",
       "523                           2.114425   \n",
       "421                          -0.473585   \n",
       "1018                         -0.473585   \n",
       "515                          -0.473585   \n",
       "89                           -0.473585   \n",
       "\n",
       "      num_employees_using_other_transportation_subsidy  \\\n",
       "523                                           2.658552   \n",
       "421                                          -0.376177   \n",
       "1018                                         -0.376177   \n",
       "515                                          -0.376177   \n",
       "89                                           -0.376177   \n",
       "\n",
       "      num_parking_spaces_reserved_for_employee_usage  num_HOV_parking_spaces  \\\n",
       "523                                         0.975558               -0.683034   \n",
       "421                                         1.055351                1.462402   \n",
       "1018                                        0.837192               -0.683034   \n",
       "515                                         0.808302                1.422390   \n",
       "89                                          0.860793               -0.683034   \n",
       "\n",
       "      num_shared_parking_spaces  cost_of_program_in_past_year  \\\n",
       "523                   -0.646379                      0.558697   \n",
       "421                    1.576897                      0.450305   \n",
       "1018                  -0.646379                      0.414610   \n",
       "515                   -0.646379                      0.558697   \n",
       "89                    -0.646379                      0.066609   \n",
       "\n",
       "      cost_of_meeting_program_requirements  \\\n",
       "523                               0.937415   \n",
       "421                               0.713476   \n",
       "1018                              0.715195   \n",
       "515                               0.802323   \n",
       "89                                0.719976   \n",
       "\n",
       "      cost_of_financial_incentives_subsidies_paid_to_employees  \\\n",
       "523                                            1.050897          \n",
       "421                                            1.020397          \n",
       "1018                                           0.999402          \n",
       "515                                            0.792646          \n",
       "89                                             0.816699          \n",
       "\n",
       "      cost_of_facility_upkeep  cost_of_other  \n",
       "523                 -0.648478      -0.424837  \n",
       "421                 -0.648478      -0.424837  \n",
       "1018                -0.648478      -0.424837  \n",
       "515                  1.545325      -0.424837  \n",
       "89                  -0.648478      -0.424837  \n",
       "\n",
       "[5 rows x 54 columns]"
      ]
     },
     "execution_count": 15,
     "metadata": {},
     "output_type": "execute_result"
    }
   ],
   "source": [
    "X_train_scaled_df = pd.DataFrame(X_train_scaled,\n",
    "                                 columns=X_train_numeric.columns,\n",
    "                                 index=X_train.index)\n",
    "X_train_scaled_df.head()"
   ]
  },
  {
   "cell_type": "code",
   "execution_count": 16,
   "metadata": {},
   "outputs": [
    {
     "data": {
      "text/html": [
       "<div>\n",
       "<table border=\"1\" class=\"dataframe\">\n",
       "  <thead>\n",
       "    <tr style=\"text-align: right;\">\n",
       "      <th></th>\n",
       "      <th>Response_Rate</th>\n",
       "      <th>Total_Employees</th>\n",
       "      <th>Goal_VMT</th>\n",
       "      <th>Total_VMT</th>\n",
       "      <th>Total_Goal_VMT</th>\n",
       "      <th>Goal_NDAT_Rate_(Worksite_only)</th>\n",
       "      <th>Total_Goal_NDAT_Trips</th>\n",
       "      <th>Total_Annual_Greenhouse_Gas_Emissions_-__All_Employees_(Metric_Tons_CO2e)</th>\n",
       "      <th>GHGforAgg_(Pounds)</th>\n",
       "      <th>Total_Weekly_Trips</th>\n",
       "      <th>...</th>\n",
       "      <th>num_employees_using_bike_subsidy</th>\n",
       "      <th>num_employees_using_other_transportation_subsidy</th>\n",
       "      <th>num_parking_spaces_reserved_for_employee_usage</th>\n",
       "      <th>num_HOV_parking_spaces</th>\n",
       "      <th>num_shared_parking_spaces</th>\n",
       "      <th>cost_of_program_in_past_year</th>\n",
       "      <th>cost_of_meeting_program_requirements</th>\n",
       "      <th>cost_of_financial_incentives_subsidies_paid_to_employees</th>\n",
       "      <th>cost_of_facility_upkeep</th>\n",
       "      <th>cost_of_other</th>\n",
       "    </tr>\n",
       "  </thead>\n",
       "  <tbody>\n",
       "    <tr>\n",
       "      <th>757</th>\n",
       "      <td>0.323694</td>\n",
       "      <td>0.818550</td>\n",
       "      <td>-2.086190</td>\n",
       "      <td>0.624763</td>\n",
       "      <td>-2.006833</td>\n",
       "      <td>-2.120769</td>\n",
       "      <td>-0.456055</td>\n",
       "      <td>0.501015</td>\n",
       "      <td>0.581558</td>\n",
       "      <td>0.988425</td>\n",
       "      <td>...</td>\n",
       "      <td>-0.473585</td>\n",
       "      <td>-0.376177</td>\n",
       "      <td>0.822868</td>\n",
       "      <td>-0.683034</td>\n",
       "      <td>-0.646379</td>\n",
       "      <td>0.524490</td>\n",
       "      <td>0.572734</td>\n",
       "      <td>1.016707</td>\n",
       "      <td>1.564145</td>\n",
       "      <td>2.357765</td>\n",
       "    </tr>\n",
       "    <tr>\n",
       "      <th>998</th>\n",
       "      <td>-0.576198</td>\n",
       "      <td>0.513434</td>\n",
       "      <td>0.582508</td>\n",
       "      <td>0.648204</td>\n",
       "      <td>0.352973</td>\n",
       "      <td>0.253424</td>\n",
       "      <td>-0.456055</td>\n",
       "      <td>0.602568</td>\n",
       "      <td>0.605011</td>\n",
       "      <td>0.470548</td>\n",
       "      <td>...</td>\n",
       "      <td>-0.473585</td>\n",
       "      <td>-0.376177</td>\n",
       "      <td>0.912025</td>\n",
       "      <td>1.440436</td>\n",
       "      <td>-0.646379</td>\n",
       "      <td>0.547529</td>\n",
       "      <td>0.614431</td>\n",
       "      <td>0.845463</td>\n",
       "      <td>1.507287</td>\n",
       "      <td>-0.424837</td>\n",
       "    </tr>\n",
       "    <tr>\n",
       "      <th>700</th>\n",
       "      <td>-0.584288</td>\n",
       "      <td>1.805148</td>\n",
       "      <td>0.372468</td>\n",
       "      <td>1.775566</td>\n",
       "      <td>1.221770</td>\n",
       "      <td>0.455708</td>\n",
       "      <td>2.195848</td>\n",
       "      <td>1.635850</td>\n",
       "      <td>1.782911</td>\n",
       "      <td>1.925261</td>\n",
       "      <td>...</td>\n",
       "      <td>2.118665</td>\n",
       "      <td>2.658581</td>\n",
       "      <td>1.153941</td>\n",
       "      <td>1.504745</td>\n",
       "      <td>-0.646379</td>\n",
       "      <td>0.649882</td>\n",
       "      <td>1.491742</td>\n",
       "      <td>1.140845</td>\n",
       "      <td>1.584666</td>\n",
       "      <td>2.352755</td>\n",
       "    </tr>\n",
       "    <tr>\n",
       "      <th>213</th>\n",
       "      <td>1.474612</td>\n",
       "      <td>-0.034422</td>\n",
       "      <td>-0.025109</td>\n",
       "      <td>-0.043755</td>\n",
       "      <td>0.073447</td>\n",
       "      <td>0.731482</td>\n",
       "      <td>-0.456055</td>\n",
       "      <td>-0.435334</td>\n",
       "      <td>-0.029775</td>\n",
       "      <td>0.426354</td>\n",
       "      <td>...</td>\n",
       "      <td>-0.473585</td>\n",
       "      <td>-0.376177</td>\n",
       "      <td>-1.189249</td>\n",
       "      <td>-0.683034</td>\n",
       "      <td>-0.646379</td>\n",
       "      <td>0.414610</td>\n",
       "      <td>0.886891</td>\n",
       "      <td>0.797328</td>\n",
       "      <td>-0.648478</td>\n",
       "      <td>-0.424837</td>\n",
       "    </tr>\n",
       "    <tr>\n",
       "      <th>278</th>\n",
       "      <td>1.985462</td>\n",
       "      <td>-0.265411</td>\n",
       "      <td>-2.086190</td>\n",
       "      <td>-0.280170</td>\n",
       "      <td>-2.006833</td>\n",
       "      <td>-2.120769</td>\n",
       "      <td>-0.456055</td>\n",
       "      <td>-0.704244</td>\n",
       "      <td>-0.271608</td>\n",
       "      <td>0.339158</td>\n",
       "      <td>...</td>\n",
       "      <td>-0.473585</td>\n",
       "      <td>-0.376177</td>\n",
       "      <td>-1.189249</td>\n",
       "      <td>-0.683034</td>\n",
       "      <td>1.524916</td>\n",
       "      <td>1.018734</td>\n",
       "      <td>1.092158</td>\n",
       "      <td>1.018048</td>\n",
       "      <td>-0.648478</td>\n",
       "      <td>-0.424837</td>\n",
       "    </tr>\n",
       "  </tbody>\n",
       "</table>\n",
       "<p>5 rows × 54 columns</p>\n",
       "</div>"
      ],
      "text/plain": [
       "     Response_Rate  Total_Employees  Goal_VMT  Total_VMT  Total_Goal_VMT  \\\n",
       "757       0.323694         0.818550 -2.086190   0.624763       -2.006833   \n",
       "998      -0.576198         0.513434  0.582508   0.648204        0.352973   \n",
       "700      -0.584288         1.805148  0.372468   1.775566        1.221770   \n",
       "213       1.474612        -0.034422 -0.025109  -0.043755        0.073447   \n",
       "278       1.985462        -0.265411 -2.086190  -0.280170       -2.006833   \n",
       "\n",
       "     Goal_NDAT_Rate_(Worksite_only)  Total_Goal_NDAT_Trips  \\\n",
       "757                       -2.120769              -0.456055   \n",
       "998                        0.253424              -0.456055   \n",
       "700                        0.455708               2.195848   \n",
       "213                        0.731482              -0.456055   \n",
       "278                       -2.120769              -0.456055   \n",
       "\n",
       "     Total_Annual_Greenhouse_Gas_Emissions_-__All_Employees_(Metric_Tons_CO2e)  \\\n",
       "757                                           0.501015                           \n",
       "998                                           0.602568                           \n",
       "700                                           1.635850                           \n",
       "213                                          -0.435334                           \n",
       "278                                          -0.704244                           \n",
       "\n",
       "     GHGforAgg_(Pounds)  Total_Weekly_Trips      ...        \\\n",
       "757            0.581558            0.988425      ...         \n",
       "998            0.605011            0.470548      ...         \n",
       "700            1.782911            1.925261      ...         \n",
       "213           -0.029775            0.426354      ...         \n",
       "278           -0.271608            0.339158      ...         \n",
       "\n",
       "     num_employees_using_bike_subsidy  \\\n",
       "757                         -0.473585   \n",
       "998                         -0.473585   \n",
       "700                          2.118665   \n",
       "213                         -0.473585   \n",
       "278                         -0.473585   \n",
       "\n",
       "     num_employees_using_other_transportation_subsidy  \\\n",
       "757                                         -0.376177   \n",
       "998                                         -0.376177   \n",
       "700                                          2.658581   \n",
       "213                                         -0.376177   \n",
       "278                                         -0.376177   \n",
       "\n",
       "     num_parking_spaces_reserved_for_employee_usage  num_HOV_parking_spaces  \\\n",
       "757                                        0.822868               -0.683034   \n",
       "998                                        0.912025                1.440436   \n",
       "700                                        1.153941                1.504745   \n",
       "213                                       -1.189249               -0.683034   \n",
       "278                                       -1.189249               -0.683034   \n",
       "\n",
       "     num_shared_parking_spaces  cost_of_program_in_past_year  \\\n",
       "757                  -0.646379                      0.524490   \n",
       "998                  -0.646379                      0.547529   \n",
       "700                  -0.646379                      0.649882   \n",
       "213                  -0.646379                      0.414610   \n",
       "278                   1.524916                      1.018734   \n",
       "\n",
       "     cost_of_meeting_program_requirements  \\\n",
       "757                              0.572734   \n",
       "998                              0.614431   \n",
       "700                              1.491742   \n",
       "213                              0.886891   \n",
       "278                              1.092158   \n",
       "\n",
       "     cost_of_financial_incentives_subsidies_paid_to_employees  \\\n",
       "757                                           1.016707          \n",
       "998                                           0.845463          \n",
       "700                                           1.140845          \n",
       "213                                           0.797328          \n",
       "278                                           1.018048          \n",
       "\n",
       "     cost_of_facility_upkeep  cost_of_other  \n",
       "757                 1.564145       2.357765  \n",
       "998                 1.507287      -0.424837  \n",
       "700                 1.584666       2.352755  \n",
       "213                -0.648478      -0.424837  \n",
       "278                -0.648478      -0.424837  \n",
       "\n",
       "[5 rows x 54 columns]"
      ]
     },
     "execution_count": 16,
     "metadata": {},
     "output_type": "execute_result"
    }
   ],
   "source": [
    "X_test_scaled_df = pd.DataFrame(X_test_scaled,\n",
    "                                 columns=X_test_numeric.columns,\n",
    "                                 index=X_test.index)\n",
    "X_test_scaled_df.head()"
   ]
  },
  {
   "cell_type": "markdown",
   "metadata": {},
   "source": [
    "## 4. Encode Categorical Columns and Replace Raw Numeric Values in `X_train` and `X_test` with Deskewed/Scaled Values\n",
    "* Delete UUID columns, do not want to predict on UUID\n",
    "* Encode `X_train` and `X_test`\n",
    "* Replace deskewed/scaled numeric features into the dataset in appropriate columns."
   ]
  },
  {
   "cell_type": "code",
   "execution_count": 17,
   "metadata": {},
   "outputs": [
    {
     "name": "stderr",
     "output_type": "stream",
     "text": [
      "/opt/conda/lib/python3.6/site-packages/ipykernel_launcher.py:1: SettingWithCopyWarning: \n",
      "A value is trying to be set on a copy of a slice from a DataFrame\n",
      "\n",
      "See the caveats in the documentation: http://pandas.pydata.org/pandas-docs/stable/indexing.html#indexing-view-versus-copy\n",
      "  \"\"\"Entry point for launching an IPython kernel.\n",
      "/opt/conda/lib/python3.6/site-packages/ipykernel_launcher.py:2: SettingWithCopyWarning: \n",
      "A value is trying to be set on a copy of a slice from a DataFrame\n",
      "\n",
      "See the caveats in the documentation: http://pandas.pydata.org/pandas-docs/stable/indexing.html#indexing-view-versus-copy\n",
      "  \n"
     ]
    }
   ],
   "source": [
    "X_train.drop(['UUID'], axis=1, inplace=True)\n",
    "X_test.drop(['UUID'], axis=1, inplace=True)"
   ]
  },
  {
   "cell_type": "code",
   "execution_count": 18,
   "metadata": {
    "scrolled": true
   },
   "outputs": [],
   "source": [
    "X_train_dummies = pd.get_dummies(X_train)\n",
    "X_test_dummies  = pd.get_dummies(X_test)"
   ]
  },
  {
   "cell_type": "code",
   "execution_count": 19,
   "metadata": {},
   "outputs": [],
   "source": [
    "for col in X_train_scaled_df.columns:\n",
    "    X_train_dummies[col] = X_train_scaled_df[col]"
   ]
  },
  {
   "cell_type": "code",
   "execution_count": 20,
   "metadata": {},
   "outputs": [],
   "source": [
    "for col in X_test_scaled_df.columns:\n",
    "    X_test_dummies[col] = X_test_scaled_df[col]"
   ]
  },
  {
   "cell_type": "code",
   "execution_count": 21,
   "metadata": {},
   "outputs": [
    {
     "data": {
      "text/plain": [
       "((312, 1173), (726, 1173), (726,), (312,))"
      ]
     },
     "execution_count": 21,
     "metadata": {},
     "output_type": "execute_result"
    }
   ],
   "source": [
    "X_test_dummies.shape, X_train_dummies.shape, y_train.shape, y_test.shape"
   ]
  },
  {
   "cell_type": "markdown",
   "metadata": {},
   "source": [
    "## 5. Pickling and Saving\n",
    "* encoded categorical/normed numeric dataframe for benchmark scoring\n",
    "* numeric deskewed/scaled for outlier removal."
   ]
  },
  {
   "cell_type": "code",
   "execution_count": 22,
   "metadata": {},
   "outputs": [],
   "source": [
    "X_test_dummies.to_pickle('./data/X_test_dummies_df.pkl')\n",
    "X_train_dummies.to_pickle('./data/X_train_dummies_df.pkl')\n",
    "\n",
    "y_train.to_pickle('./data/y_train.pkl')\n",
    "y_test.to_pickle('./data/y_test.pkl')"
   ]
  },
  {
   "cell_type": "code",
   "execution_count": null,
   "metadata": {},
   "outputs": [],
   "source": []
  }
 ],
 "metadata": {
  "kernelspec": {
   "display_name": "Python 3",
   "language": "python",
   "name": "python3"
  },
  "language_info": {
   "codemirror_mode": {
    "name": "ipython",
    "version": 3
   },
   "file_extension": ".py",
   "mimetype": "text/x-python",
   "name": "python",
   "nbconvert_exporter": "python",
   "pygments_lexer": "ipython3",
   "version": "3.6.2"
  }
 },
 "nbformat": 4,
 "nbformat_minor": 2
}
