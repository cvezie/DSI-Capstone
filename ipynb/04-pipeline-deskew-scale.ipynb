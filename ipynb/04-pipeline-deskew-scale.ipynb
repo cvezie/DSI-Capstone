{
 "cells": [
  {
   "cell_type": "markdown",
   "metadata": {},
   "source": [
    "# Deskew and Scale\n",
    "\n",
    "####  Goals\n",
    "* `train_test_split`.\n",
    "* Deskew using `BoxCoxTransformer` and scale using `StandardScaler`.\n",
    "* Encode the categorical features.\n",
    "* Replace raw numeric features in dummy set with deskewed and scaled values.\n",
    "\n",
    "#### Output\n",
    "* DataFrames ready for benchmark model scoring."
   ]
  },
  {
   "cell_type": "code",
   "execution_count": 1,
   "metadata": {},
   "outputs": [
    {
     "name": "stdout",
     "output_type": "stream",
     "text": [
      "/home/jovyan/dsi/CAPSTONE\n"
     ]
    }
   ],
   "source": [
    "cd .."
   ]
  },
  {
   "cell_type": "code",
   "execution_count": 2,
   "metadata": {},
   "outputs": [],
   "source": [
    "%run lib/__init__.py\n",
    "%matplotlib inline"
   ]
  },
  {
   "cell_type": "markdown",
   "metadata": {},
   "source": [
    "## 0. Load Data"
   ]
  },
  {
   "cell_type": "code",
   "execution_count": 3,
   "metadata": {
    "scrolled": false
   },
   "outputs": [
    {
     "data": {
      "text/plain": [
       "(1038, 86)"
      ]
     },
     "execution_count": 3,
     "metadata": {},
     "output_type": "execute_result"
    }
   ],
   "source": [
    "# the whole dataset. numeric and categorical together.\n",
    "commute_df = pd.read_pickle('./data/dropped_correlated_features_df.pkl')\n",
    "commute_df.shape"
   ]
  },
  {
   "cell_type": "code",
   "execution_count": 4,
   "metadata": {},
   "outputs": [
    {
     "data": {
      "text/plain": [
       "(39, 8)"
      ]
     },
     "execution_count": 4,
     "metadata": {},
     "output_type": "execute_result"
    }
   ],
   "source": [
    "# to get a list of the numerical columns\n",
    "commute_stats_df = pd.read_pickle('./data/commute_stats_dropped_correlated_features_df.pkl')\n",
    "commute_stats_df.shape"
   ]
  },
  {
   "cell_type": "code",
   "execution_count": 5,
   "metadata": {},
   "outputs": [],
   "source": [
    "data_set   = commute_df.drop(['Alone_Share'], axis=1)\n",
    "target_set = commute_df['Alone_Share']"
   ]
  },
  {
   "cell_type": "code",
   "execution_count": 6,
   "metadata": {},
   "outputs": [],
   "source": [
    "X_train, X_test, y_train, y_test = train_test_split(data_set, target_set, test_size=0.3)"
   ]
  },
  {
   "cell_type": "code",
   "execution_count": 7,
   "metadata": {},
   "outputs": [
    {
     "data": {
      "text/plain": [
       "((726, 85), (726,), (312, 85), (312,))"
      ]
     },
     "execution_count": 7,
     "metadata": {},
     "output_type": "execute_result"
    }
   ],
   "source": [
    "X_train.shape, y_train.shape, X_test.shape, y_test.shape"
   ]
  },
  {
   "cell_type": "markdown",
   "metadata": {},
   "source": [
    "## 1. Identify Numerical Features in `commute_df`\n",
    "* Make a DataFrame only containing numerical features"
   ]
  },
  {
   "cell_type": "code",
   "execution_count": 8,
   "metadata": {
    "scrolled": true
   },
   "outputs": [],
   "source": [
    "numerical_columns = list(commute_stats_df.index)\n",
    "numerical_columns.remove('Alone_Share')"
   ]
  },
  {
   "cell_type": "code",
   "execution_count": 9,
   "metadata": {},
   "outputs": [],
   "source": [
    "X_train_numeric = X_train[numerical_columns]\n",
    "X_test_numeric  = X_test[numerical_columns]"
   ]
  },
  {
   "cell_type": "code",
   "execution_count": 10,
   "metadata": {
    "scrolled": true
   },
   "outputs": [],
   "source": [
    "# add a small amount to everything so that I can use boxcox\n",
    "X_train_numeric += 1E-9\n",
    "X_test_numeric += 1E-9"
   ]
  },
  {
   "cell_type": "markdown",
   "metadata": {},
   "source": [
    "## 2. Pipeline Build"
   ]
  },
  {
   "cell_type": "code",
   "execution_count": 11,
   "metadata": {},
   "outputs": [],
   "source": [
    "from lib.preprocessing import BoxCoxTransformer"
   ]
  },
  {
   "cell_type": "code",
   "execution_count": 12,
   "metadata": {},
   "outputs": [],
   "source": [
    "pipeline = Pipeline([\n",
    "    ('boxcox'  , BoxCoxTransformer()),\n",
    "    ('ss'      , StandardScaler())\n",
    "])"
   ]
  },
  {
   "cell_type": "code",
   "execution_count": 13,
   "metadata": {},
   "outputs": [],
   "source": [
    "X_train_scaled = pipeline.fit_transform(X_train_numeric)"
   ]
  },
  {
   "cell_type": "code",
   "execution_count": 14,
   "metadata": {},
   "outputs": [],
   "source": [
    "X_test_scaled = pipeline.transform(X_test_numeric)"
   ]
  },
  {
   "cell_type": "markdown",
   "metadata": {},
   "source": [
    "## 3. Represent Deskewed/Scaled Data in DataFrames\n",
    "* `X_train_scaled_df`.\n",
    "* `X_test_scaled_df`."
   ]
  },
  {
   "cell_type": "code",
   "execution_count": 15,
   "metadata": {},
   "outputs": [
    {
     "data": {
      "text/html": [
       "<div>\n",
       "<table border=\"1\" class=\"dataframe\">\n",
       "  <thead>\n",
       "    <tr style=\"text-align: right;\">\n",
       "      <th></th>\n",
       "      <th>Response_Rate</th>\n",
       "      <th>Total_Employees</th>\n",
       "      <th>Goal_VMT</th>\n",
       "      <th>Total_VMT</th>\n",
       "      <th>Total_Goal_VMT</th>\n",
       "      <th>Total_Annual_Greenhouse_Gas_Emissions_-__All_Employees_(Metric_Tons_CO2e)</th>\n",
       "      <th>Daily_Roundtrip_GHG_Per_Employee_(Pounds)</th>\n",
       "      <th>Weekly_CWW_Days</th>\n",
       "      <th>Weekly_Overnight_Business_Trip</th>\n",
       "      <th>Weekly_Did_Not_Work</th>\n",
       "      <th>...</th>\n",
       "      <th>num_employees_using_bike_subsidy</th>\n",
       "      <th>num_employees_using_other_transportation_subsidy</th>\n",
       "      <th>num_parking_spaces_reserved_for_employee_usage</th>\n",
       "      <th>num_HOV_parking_spaces</th>\n",
       "      <th>num_shared_parking_spaces</th>\n",
       "      <th>cost_of_program_in_past_year</th>\n",
       "      <th>cost_of_meeting_program_requirements</th>\n",
       "      <th>cost_of_financial_incentives_subsidies_paid_to_employees</th>\n",
       "      <th>cost_of_facility_upkeep</th>\n",
       "      <th>cost_of_other</th>\n",
       "    </tr>\n",
       "  </thead>\n",
       "  <tbody>\n",
       "    <tr>\n",
       "      <th>429</th>\n",
       "      <td>0.770679</td>\n",
       "      <td>-0.443029</td>\n",
       "      <td>0.696461</td>\n",
       "      <td>0.562495</td>\n",
       "      <td>0.665233</td>\n",
       "      <td>0.281685</td>\n",
       "      <td>1.089895</td>\n",
       "      <td>0.692630</td>\n",
       "      <td>0.586213</td>\n",
       "      <td>0.371890</td>\n",
       "      <td>...</td>\n",
       "      <td>-0.458257</td>\n",
       "      <td>-0.354375</td>\n",
       "      <td>-1.137151</td>\n",
       "      <td>1.482903</td>\n",
       "      <td>1.574046</td>\n",
       "      <td>0.609278</td>\n",
       "      <td>0.665775</td>\n",
       "      <td>1.001802</td>\n",
       "      <td>-0.605931</td>\n",
       "      <td>-0.404303</td>\n",
       "    </tr>\n",
       "    <tr>\n",
       "      <th>677</th>\n",
       "      <td>1.540363</td>\n",
       "      <td>0.825398</td>\n",
       "      <td>-0.016709</td>\n",
       "      <td>-0.569912</td>\n",
       "      <td>0.295270</td>\n",
       "      <td>-0.775412</td>\n",
       "      <td>-1.902601</td>\n",
       "      <td>1.103329</td>\n",
       "      <td>1.256703</td>\n",
       "      <td>1.426133</td>\n",
       "      <td>...</td>\n",
       "      <td>2.184650</td>\n",
       "      <td>-0.354375</td>\n",
       "      <td>-1.137151</td>\n",
       "      <td>-0.667929</td>\n",
       "      <td>-0.637851</td>\n",
       "      <td>-1.407234</td>\n",
       "      <td>-1.178743</td>\n",
       "      <td>1.062026</td>\n",
       "      <td>-0.605931</td>\n",
       "      <td>-0.404303</td>\n",
       "    </tr>\n",
       "    <tr>\n",
       "      <th>682</th>\n",
       "      <td>-1.938914</td>\n",
       "      <td>1.353697</td>\n",
       "      <td>0.675026</td>\n",
       "      <td>1.565248</td>\n",
       "      <td>0.827920</td>\n",
       "      <td>1.716053</td>\n",
       "      <td>1.352643</td>\n",
       "      <td>0.955400</td>\n",
       "      <td>0.887688</td>\n",
       "      <td>1.115471</td>\n",
       "      <td>...</td>\n",
       "      <td>-0.458257</td>\n",
       "      <td>-0.354375</td>\n",
       "      <td>-1.137151</td>\n",
       "      <td>-0.667929</td>\n",
       "      <td>-0.637851</td>\n",
       "      <td>-0.034231</td>\n",
       "      <td>0.938142</td>\n",
       "      <td>1.096511</td>\n",
       "      <td>1.614309</td>\n",
       "      <td>-0.404303</td>\n",
       "    </tr>\n",
       "    <tr>\n",
       "      <th>206</th>\n",
       "      <td>-0.250261</td>\n",
       "      <td>1.231941</td>\n",
       "      <td>-2.005668</td>\n",
       "      <td>0.730569</td>\n",
       "      <td>-1.944997</td>\n",
       "      <td>0.577863</td>\n",
       "      <td>-0.678404</td>\n",
       "      <td>0.796708</td>\n",
       "      <td>1.083946</td>\n",
       "      <td>0.482577</td>\n",
       "      <td>...</td>\n",
       "      <td>-0.458257</td>\n",
       "      <td>-0.354375</td>\n",
       "      <td>0.795170</td>\n",
       "      <td>-0.667929</td>\n",
       "      <td>1.596272</td>\n",
       "      <td>0.450830</td>\n",
       "      <td>0.863267</td>\n",
       "      <td>0.818004</td>\n",
       "      <td>-0.605931</td>\n",
       "      <td>-0.404303</td>\n",
       "    </tr>\n",
       "    <tr>\n",
       "      <th>875</th>\n",
       "      <td>-0.685495</td>\n",
       "      <td>0.429900</td>\n",
       "      <td>-2.005668</td>\n",
       "      <td>0.310486</td>\n",
       "      <td>-1.944997</td>\n",
       "      <td>0.331011</td>\n",
       "      <td>0.065690</td>\n",
       "      <td>0.796708</td>\n",
       "      <td>-1.386123</td>\n",
       "      <td>0.135168</td>\n",
       "      <td>...</td>\n",
       "      <td>2.183540</td>\n",
       "      <td>-0.354375</td>\n",
       "      <td>0.994845</td>\n",
       "      <td>1.457119</td>\n",
       "      <td>-0.637851</td>\n",
       "      <td>1.736993</td>\n",
       "      <td>0.962564</td>\n",
       "      <td>0.822780</td>\n",
       "      <td>-0.605931</td>\n",
       "      <td>-0.404303</td>\n",
       "    </tr>\n",
       "  </tbody>\n",
       "</table>\n",
       "<p>5 rows × 38 columns</p>\n",
       "</div>"
      ],
      "text/plain": [
       "     Response_Rate  Total_Employees  Goal_VMT  Total_VMT  Total_Goal_VMT  \\\n",
       "429       0.770679        -0.443029  0.696461   0.562495        0.665233   \n",
       "677       1.540363         0.825398 -0.016709  -0.569912        0.295270   \n",
       "682      -1.938914         1.353697  0.675026   1.565248        0.827920   \n",
       "206      -0.250261         1.231941 -2.005668   0.730569       -1.944997   \n",
       "875      -0.685495         0.429900 -2.005668   0.310486       -1.944997   \n",
       "\n",
       "     Total_Annual_Greenhouse_Gas_Emissions_-__All_Employees_(Metric_Tons_CO2e)  \\\n",
       "429                                           0.281685                           \n",
       "677                                          -0.775412                           \n",
       "682                                           1.716053                           \n",
       "206                                           0.577863                           \n",
       "875                                           0.331011                           \n",
       "\n",
       "     Daily_Roundtrip_GHG_Per_Employee_(Pounds)  Weekly_CWW_Days  \\\n",
       "429                                   1.089895         0.692630   \n",
       "677                                  -1.902601         1.103329   \n",
       "682                                   1.352643         0.955400   \n",
       "206                                  -0.678404         0.796708   \n",
       "875                                   0.065690         0.796708   \n",
       "\n",
       "     Weekly_Overnight_Business_Trip  Weekly_Did_Not_Work      ...        \\\n",
       "429                        0.586213             0.371890      ...         \n",
       "677                        1.256703             1.426133      ...         \n",
       "682                        0.887688             1.115471      ...         \n",
       "206                        1.083946             0.482577      ...         \n",
       "875                       -1.386123             0.135168      ...         \n",
       "\n",
       "     num_employees_using_bike_subsidy  \\\n",
       "429                         -0.458257   \n",
       "677                          2.184650   \n",
       "682                         -0.458257   \n",
       "206                         -0.458257   \n",
       "875                          2.183540   \n",
       "\n",
       "     num_employees_using_other_transportation_subsidy  \\\n",
       "429                                         -0.354375   \n",
       "677                                         -0.354375   \n",
       "682                                         -0.354375   \n",
       "206                                         -0.354375   \n",
       "875                                         -0.354375   \n",
       "\n",
       "     num_parking_spaces_reserved_for_employee_usage  num_HOV_parking_spaces  \\\n",
       "429                                       -1.137151                1.482903   \n",
       "677                                       -1.137151               -0.667929   \n",
       "682                                       -1.137151               -0.667929   \n",
       "206                                        0.795170               -0.667929   \n",
       "875                                        0.994845                1.457119   \n",
       "\n",
       "     num_shared_parking_spaces  cost_of_program_in_past_year  \\\n",
       "429                   1.574046                      0.609278   \n",
       "677                  -0.637851                     -1.407234   \n",
       "682                  -0.637851                     -0.034231   \n",
       "206                   1.596272                      0.450830   \n",
       "875                  -0.637851                      1.736993   \n",
       "\n",
       "     cost_of_meeting_program_requirements  \\\n",
       "429                              0.665775   \n",
       "677                             -1.178743   \n",
       "682                              0.938142   \n",
       "206                              0.863267   \n",
       "875                              0.962564   \n",
       "\n",
       "     cost_of_financial_incentives_subsidies_paid_to_employees  \\\n",
       "429                                           1.001802          \n",
       "677                                           1.062026          \n",
       "682                                           1.096511          \n",
       "206                                           0.818004          \n",
       "875                                           0.822780          \n",
       "\n",
       "     cost_of_facility_upkeep  cost_of_other  \n",
       "429                -0.605931      -0.404303  \n",
       "677                -0.605931      -0.404303  \n",
       "682                 1.614309      -0.404303  \n",
       "206                -0.605931      -0.404303  \n",
       "875                -0.605931      -0.404303  \n",
       "\n",
       "[5 rows x 38 columns]"
      ]
     },
     "execution_count": 15,
     "metadata": {},
     "output_type": "execute_result"
    }
   ],
   "source": [
    "X_train_scaled_df = pd.DataFrame(X_train_scaled,\n",
    "                                 columns=X_train_numeric.columns,\n",
    "                                 index=X_train.index)\n",
    "X_train_scaled_df.head()"
   ]
  },
  {
   "cell_type": "code",
   "execution_count": 16,
   "metadata": {},
   "outputs": [
    {
     "data": {
      "text/html": [
       "<div>\n",
       "<table border=\"1\" class=\"dataframe\">\n",
       "  <thead>\n",
       "    <tr style=\"text-align: right;\">\n",
       "      <th></th>\n",
       "      <th>Response_Rate</th>\n",
       "      <th>Total_Employees</th>\n",
       "      <th>Goal_VMT</th>\n",
       "      <th>Total_VMT</th>\n",
       "      <th>Total_Goal_VMT</th>\n",
       "      <th>Total_Annual_Greenhouse_Gas_Emissions_-__All_Employees_(Metric_Tons_CO2e)</th>\n",
       "      <th>Daily_Roundtrip_GHG_Per_Employee_(Pounds)</th>\n",
       "      <th>Weekly_CWW_Days</th>\n",
       "      <th>Weekly_Overnight_Business_Trip</th>\n",
       "      <th>Weekly_Did_Not_Work</th>\n",
       "      <th>...</th>\n",
       "      <th>num_employees_using_bike_subsidy</th>\n",
       "      <th>num_employees_using_other_transportation_subsidy</th>\n",
       "      <th>num_parking_spaces_reserved_for_employee_usage</th>\n",
       "      <th>num_HOV_parking_spaces</th>\n",
       "      <th>num_shared_parking_spaces</th>\n",
       "      <th>cost_of_program_in_past_year</th>\n",
       "      <th>cost_of_meeting_program_requirements</th>\n",
       "      <th>cost_of_financial_incentives_subsidies_paid_to_employees</th>\n",
       "      <th>cost_of_facility_upkeep</th>\n",
       "      <th>cost_of_other</th>\n",
       "    </tr>\n",
       "  </thead>\n",
       "  <tbody>\n",
       "    <tr>\n",
       "      <th>638</th>\n",
       "      <td>0.325947</td>\n",
       "      <td>-0.435773</td>\n",
       "      <td>-2.005668</td>\n",
       "      <td>-0.622037</td>\n",
       "      <td>-1.944997</td>\n",
       "      <td>-0.886780</td>\n",
       "      <td>-0.811070</td>\n",
       "      <td>-1.224324</td>\n",
       "      <td>0.934854</td>\n",
       "      <td>0.439733</td>\n",
       "      <td>...</td>\n",
       "      <td>2.183540</td>\n",
       "      <td>2.822108</td>\n",
       "      <td>0.932171</td>\n",
       "      <td>-0.667929</td>\n",
       "      <td>-0.637851</td>\n",
       "      <td>1.505200</td>\n",
       "      <td>1.117837</td>\n",
       "      <td>1.255224</td>\n",
       "      <td>1.671971</td>\n",
       "      <td>2.476006</td>\n",
       "    </tr>\n",
       "    <tr>\n",
       "      <th>895</th>\n",
       "      <td>0.118604</td>\n",
       "      <td>1.519155</td>\n",
       "      <td>0.185072</td>\n",
       "      <td>0.931451</td>\n",
       "      <td>0.792965</td>\n",
       "      <td>0.706854</td>\n",
       "      <td>-0.954542</td>\n",
       "      <td>1.291620</td>\n",
       "      <td>0.530506</td>\n",
       "      <td>1.711614</td>\n",
       "      <td>...</td>\n",
       "      <td>-0.458257</td>\n",
       "      <td>-0.354375</td>\n",
       "      <td>-1.137151</td>\n",
       "      <td>-0.667929</td>\n",
       "      <td>1.589777</td>\n",
       "      <td>1.323447</td>\n",
       "      <td>-1.178743</td>\n",
       "      <td>1.261797</td>\n",
       "      <td>-0.605931</td>\n",
       "      <td>-0.404303</td>\n",
       "    </tr>\n",
       "    <tr>\n",
       "      <th>9</th>\n",
       "      <td>0.441827</td>\n",
       "      <td>-0.232053</td>\n",
       "      <td>0.689387</td>\n",
       "      <td>0.596051</td>\n",
       "      <td>0.572806</td>\n",
       "      <td>0.378329</td>\n",
       "      <td>0.982630</td>\n",
       "      <td>0.692630</td>\n",
       "      <td>0.329706</td>\n",
       "      <td>-0.140092</td>\n",
       "      <td>...</td>\n",
       "      <td>2.174233</td>\n",
       "      <td>2.820505</td>\n",
       "      <td>0.393177</td>\n",
       "      <td>1.439191</td>\n",
       "      <td>1.482008</td>\n",
       "      <td>0.450830</td>\n",
       "      <td>0.624939</td>\n",
       "      <td>0.496711</td>\n",
       "      <td>-0.605931</td>\n",
       "      <td>-0.404303</td>\n",
       "    </tr>\n",
       "    <tr>\n",
       "      <th>553</th>\n",
       "      <td>0.072400</td>\n",
       "      <td>0.174648</td>\n",
       "      <td>0.521614</td>\n",
       "      <td>0.534995</td>\n",
       "      <td>0.546757</td>\n",
       "      <td>0.278005</td>\n",
       "      <td>0.454582</td>\n",
       "      <td>0.692630</td>\n",
       "      <td>0.530506</td>\n",
       "      <td>0.836072</td>\n",
       "      <td>...</td>\n",
       "      <td>-0.458257</td>\n",
       "      <td>-0.354375</td>\n",
       "      <td>-1.137151</td>\n",
       "      <td>-0.667929</td>\n",
       "      <td>-0.637851</td>\n",
       "      <td>1.192573</td>\n",
       "      <td>-1.178743</td>\n",
       "      <td>-1.089071</td>\n",
       "      <td>1.661972</td>\n",
       "      <td>2.475886</td>\n",
       "    </tr>\n",
       "    <tr>\n",
       "      <th>426</th>\n",
       "      <td>-0.188895</td>\n",
       "      <td>0.461692</td>\n",
       "      <td>0.724086</td>\n",
       "      <td>1.198421</td>\n",
       "      <td>0.448794</td>\n",
       "      <td>0.955950</td>\n",
       "      <td>1.352643</td>\n",
       "      <td>-1.224324</td>\n",
       "      <td>0.811742</td>\n",
       "      <td>1.042323</td>\n",
       "      <td>...</td>\n",
       "      <td>-0.458257</td>\n",
       "      <td>-0.354375</td>\n",
       "      <td>-1.137151</td>\n",
       "      <td>-0.667929</td>\n",
       "      <td>-0.637851</td>\n",
       "      <td>0.450830</td>\n",
       "      <td>0.624939</td>\n",
       "      <td>0.496711</td>\n",
       "      <td>-0.605931</td>\n",
       "      <td>-0.404303</td>\n",
       "    </tr>\n",
       "  </tbody>\n",
       "</table>\n",
       "<p>5 rows × 38 columns</p>\n",
       "</div>"
      ],
      "text/plain": [
       "     Response_Rate  Total_Employees  Goal_VMT  Total_VMT  Total_Goal_VMT  \\\n",
       "638       0.325947        -0.435773 -2.005668  -0.622037       -1.944997   \n",
       "895       0.118604         1.519155  0.185072   0.931451        0.792965   \n",
       "9         0.441827        -0.232053  0.689387   0.596051        0.572806   \n",
       "553       0.072400         0.174648  0.521614   0.534995        0.546757   \n",
       "426      -0.188895         0.461692  0.724086   1.198421        0.448794   \n",
       "\n",
       "     Total_Annual_Greenhouse_Gas_Emissions_-__All_Employees_(Metric_Tons_CO2e)  \\\n",
       "638                                          -0.886780                           \n",
       "895                                           0.706854                           \n",
       "9                                             0.378329                           \n",
       "553                                           0.278005                           \n",
       "426                                           0.955950                           \n",
       "\n",
       "     Daily_Roundtrip_GHG_Per_Employee_(Pounds)  Weekly_CWW_Days  \\\n",
       "638                                  -0.811070        -1.224324   \n",
       "895                                  -0.954542         1.291620   \n",
       "9                                     0.982630         0.692630   \n",
       "553                                   0.454582         0.692630   \n",
       "426                                   1.352643        -1.224324   \n",
       "\n",
       "     Weekly_Overnight_Business_Trip  Weekly_Did_Not_Work      ...        \\\n",
       "638                        0.934854             0.439733      ...         \n",
       "895                        0.530506             1.711614      ...         \n",
       "9                          0.329706            -0.140092      ...         \n",
       "553                        0.530506             0.836072      ...         \n",
       "426                        0.811742             1.042323      ...         \n",
       "\n",
       "     num_employees_using_bike_subsidy  \\\n",
       "638                          2.183540   \n",
       "895                         -0.458257   \n",
       "9                            2.174233   \n",
       "553                         -0.458257   \n",
       "426                         -0.458257   \n",
       "\n",
       "     num_employees_using_other_transportation_subsidy  \\\n",
       "638                                          2.822108   \n",
       "895                                         -0.354375   \n",
       "9                                            2.820505   \n",
       "553                                         -0.354375   \n",
       "426                                         -0.354375   \n",
       "\n",
       "     num_parking_spaces_reserved_for_employee_usage  num_HOV_parking_spaces  \\\n",
       "638                                        0.932171               -0.667929   \n",
       "895                                       -1.137151               -0.667929   \n",
       "9                                          0.393177                1.439191   \n",
       "553                                       -1.137151               -0.667929   \n",
       "426                                       -1.137151               -0.667929   \n",
       "\n",
       "     num_shared_parking_spaces  cost_of_program_in_past_year  \\\n",
       "638                  -0.637851                      1.505200   \n",
       "895                   1.589777                      1.323447   \n",
       "9                     1.482008                      0.450830   \n",
       "553                  -0.637851                      1.192573   \n",
       "426                  -0.637851                      0.450830   \n",
       "\n",
       "     cost_of_meeting_program_requirements  \\\n",
       "638                              1.117837   \n",
       "895                             -1.178743   \n",
       "9                                0.624939   \n",
       "553                             -1.178743   \n",
       "426                              0.624939   \n",
       "\n",
       "     cost_of_financial_incentives_subsidies_paid_to_employees  \\\n",
       "638                                           1.255224          \n",
       "895                                           1.261797          \n",
       "9                                             0.496711          \n",
       "553                                          -1.089071          \n",
       "426                                           0.496711          \n",
       "\n",
       "     cost_of_facility_upkeep  cost_of_other  \n",
       "638                 1.671971       2.476006  \n",
       "895                -0.605931      -0.404303  \n",
       "9                  -0.605931      -0.404303  \n",
       "553                 1.661972       2.475886  \n",
       "426                -0.605931      -0.404303  \n",
       "\n",
       "[5 rows x 38 columns]"
      ]
     },
     "execution_count": 16,
     "metadata": {},
     "output_type": "execute_result"
    }
   ],
   "source": [
    "X_test_scaled_df = pd.DataFrame(X_test_scaled,\n",
    "                                 columns=X_test_numeric.columns,\n",
    "                                 index=X_test.index)\n",
    "X_test_scaled_df.head()"
   ]
  },
  {
   "cell_type": "markdown",
   "metadata": {},
   "source": [
    "## 4. Encode Categorical Columns and Replace Raw Numeric Values in `X_train` and `X_test` with Deskewed/Scaled Values\n",
    "* Delete UUID columns, do not want to predict on UUID\n",
    "* Encode `X_train` and `X_test`\n",
    "* Replace deskewed/scaled numeric features into the dataset in appropriate columns."
   ]
  },
  {
   "cell_type": "code",
   "execution_count": 17,
   "metadata": {},
   "outputs": [
    {
     "name": "stderr",
     "output_type": "stream",
     "text": [
      "/opt/conda/lib/python3.6/site-packages/ipykernel_launcher.py:1: SettingWithCopyWarning: \n",
      "A value is trying to be set on a copy of a slice from a DataFrame\n",
      "\n",
      "See the caveats in the documentation: http://pandas.pydata.org/pandas-docs/stable/indexing.html#indexing-view-versus-copy\n",
      "  \"\"\"Entry point for launching an IPython kernel.\n",
      "/opt/conda/lib/python3.6/site-packages/ipykernel_launcher.py:2: SettingWithCopyWarning: \n",
      "A value is trying to be set on a copy of a slice from a DataFrame\n",
      "\n",
      "See the caveats in the documentation: http://pandas.pydata.org/pandas-docs/stable/indexing.html#indexing-view-versus-copy\n",
      "  \n"
     ]
    }
   ],
   "source": [
    "X_train.drop(['UUID'], axis=1, inplace=True)\n",
    "X_test.drop(['UUID'], axis=1, inplace=True)"
   ]
  },
  {
   "cell_type": "code",
   "execution_count": 18,
   "metadata": {
    "scrolled": true
   },
   "outputs": [],
   "source": [
    "X_train_dummies = pd.get_dummies(X_train)\n",
    "X_test_dummies  = pd.get_dummies(X_test)"
   ]
  },
  {
   "cell_type": "code",
   "execution_count": 19,
   "metadata": {},
   "outputs": [],
   "source": [
    "for col in X_train_scaled_df.columns:\n",
    "    X_train_dummies[col] = X_train_scaled_df[col]"
   ]
  },
  {
   "cell_type": "code",
   "execution_count": 20,
   "metadata": {},
   "outputs": [],
   "source": [
    "for col in X_test_scaled_df.columns:\n",
    "    X_test_dummies[col] = X_test_scaled_df[col]"
   ]
  },
  {
   "cell_type": "code",
   "execution_count": 21,
   "metadata": {},
   "outputs": [
    {
     "data": {
      "text/plain": [
       "((312, 1157), (726, 1157), (726,), (312,))"
      ]
     },
     "execution_count": 21,
     "metadata": {},
     "output_type": "execute_result"
    }
   ],
   "source": [
    "X_test_dummies.shape, X_train_dummies.shape, y_train.shape, y_test.shape"
   ]
  },
  {
   "cell_type": "markdown",
   "metadata": {},
   "source": [
    "## 5. Pickling and Saving\n",
    "* encoded categorical/normed numeric dataframe for benchmark scoring\n",
    "* numeric deskewed/scaled for outlier removal."
   ]
  },
  {
   "cell_type": "code",
   "execution_count": 22,
   "metadata": {},
   "outputs": [],
   "source": [
    "X_test_dummies.to_pickle('./data/X_test_dummies_df.pkl')\n",
    "X_train_dummies.to_pickle('./data/X_train_dummies_df.pkl')\n",
    "\n",
    "y_train.to_pickle('./data/y_train.pkl')\n",
    "y_test.to_pickle('./data/y_test.pkl')"
   ]
  },
  {
   "cell_type": "code",
   "execution_count": null,
   "metadata": {},
   "outputs": [],
   "source": []
  }
 ],
 "metadata": {
  "kernelspec": {
   "display_name": "Python 3",
   "language": "python",
   "name": "python3"
  },
  "language_info": {
   "codemirror_mode": {
    "name": "ipython",
    "version": 3
   },
   "file_extension": ".py",
   "mimetype": "text/x-python",
   "name": "python",
   "nbconvert_exporter": "python",
   "pygments_lexer": "ipython3",
   "version": "3.6.2"
  }
 },
 "nbformat": 4,
 "nbformat_minor": 2
}
