{
 "cells": [
  {
   "cell_type": "markdown",
   "metadata": {},
   "source": [
    "# Deskew and Scale\n",
    "\n",
    "####  Goals\n",
    "* `train_test_split`.\n",
    "* Deskew using `BoxCoxTransformer` and scale using `StandardScaler`.\n",
    "* Encode the categorical features.\n",
    "* Replace raw numeric features in dummy set with deskewed and scaled values.\n",
    "\n",
    "#### Output\n",
    "* DataFrames ready for benchmark model scoring."
   ]
  },
  {
   "cell_type": "code",
   "execution_count": 1,
   "metadata": {},
   "outputs": [
    {
     "name": "stdout",
     "output_type": "stream",
     "text": [
      "/home/jovyan/Capstone\n"
     ]
    }
   ],
   "source": [
    "cd .."
   ]
  },
  {
   "cell_type": "code",
   "execution_count": 2,
   "metadata": {},
   "outputs": [],
   "source": [
    "%run lib/__init__.py\n",
    "%matplotlib inline"
   ]
  },
  {
   "cell_type": "markdown",
   "metadata": {},
   "source": [
    "## 0. Load Data"
   ]
  },
  {
   "cell_type": "code",
   "execution_count": 3,
   "metadata": {
    "scrolled": false
   },
   "outputs": [
    {
     "data": {
      "text/plain": [
       "(1038, 87)"
      ]
     },
     "execution_count": 3,
     "metadata": {},
     "output_type": "execute_result"
    }
   ],
   "source": [
    "# the whole dataset. numeric and categorical together.\n",
    "commute_df = pd.read_pickle('./data/dropped_correlated_features_df.pkl')\n",
    "commute_df.shape"
   ]
  },
  {
   "cell_type": "code",
   "execution_count": 4,
   "metadata": {},
   "outputs": [
    {
     "data": {
      "text/plain": [
       "(40, 8)"
      ]
     },
     "execution_count": 4,
     "metadata": {},
     "output_type": "execute_result"
    }
   ],
   "source": [
    "# to get a list of the numerical columns\n",
    "commute_stats_df = pd.read_pickle('./data/commute_stats_dropped_correlated_features_df.pkl')\n",
    "commute_stats_df.shape"
   ]
  },
  {
   "cell_type": "code",
   "execution_count": 5,
   "metadata": {},
   "outputs": [],
   "source": [
    "data_set   = commute_df.drop(['Alone_Share'], axis=1)\n",
    "target_set = commute_df['Alone_Share']"
   ]
  },
  {
   "cell_type": "code",
   "execution_count": 6,
   "metadata": {},
   "outputs": [],
   "source": [
    "X_train, X_test, y_train, y_test = train_test_split(data_set, target_set, test_size=0.3)"
   ]
  },
  {
   "cell_type": "code",
   "execution_count": 7,
   "metadata": {},
   "outputs": [
    {
     "data": {
      "text/plain": [
       "((726, 86), (726,), (312, 86), (312,))"
      ]
     },
     "execution_count": 7,
     "metadata": {},
     "output_type": "execute_result"
    }
   ],
   "source": [
    "X_train.shape, y_train.shape, X_test.shape, y_test.shape"
   ]
  },
  {
   "cell_type": "markdown",
   "metadata": {},
   "source": [
    "## 1. Identify Numerical Features in `commute_df`\n",
    "* Make a DataFrame only containing numerical features"
   ]
  },
  {
   "cell_type": "code",
   "execution_count": 8,
   "metadata": {
    "scrolled": true
   },
   "outputs": [],
   "source": [
    "numerical_columns = list(commute_stats_df.index)\n",
    "numerical_columns.remove('Alone_Share')"
   ]
  },
  {
   "cell_type": "code",
   "execution_count": 9,
   "metadata": {},
   "outputs": [],
   "source": [
    "X_train_numeric = X_train[numerical_columns]\n",
    "X_test_numeric  = X_test[numerical_columns]"
   ]
  },
  {
   "cell_type": "code",
   "execution_count": 10,
   "metadata": {
    "scrolled": true
   },
   "outputs": [],
   "source": [
    "# add a small amount to everything so that I can use boxcox\n",
    "X_train_numeric += 1E-9\n",
    "X_test_numeric += 1E-9"
   ]
  },
  {
   "cell_type": "markdown",
   "metadata": {},
   "source": [
    "## 2. Pipeline Build"
   ]
  },
  {
   "cell_type": "code",
   "execution_count": 11,
   "metadata": {},
   "outputs": [],
   "source": [
    "from lib.preprocessing import BoxCoxTransformer"
   ]
  },
  {
   "cell_type": "code",
   "execution_count": 12,
   "metadata": {},
   "outputs": [],
   "source": [
    "pipeline = Pipeline([\n",
    "    ('boxcox'  , BoxCoxTransformer()),\n",
    "    ('ss'      , StandardScaler())\n",
    "])"
   ]
  },
  {
   "cell_type": "code",
   "execution_count": 13,
   "metadata": {},
   "outputs": [],
   "source": [
    "X_train_scaled = pipeline.fit_transform(X_train_numeric)"
   ]
  },
  {
   "cell_type": "code",
   "execution_count": 14,
   "metadata": {},
   "outputs": [],
   "source": [
    "X_test_scaled = pipeline.transform(X_test_numeric)"
   ]
  },
  {
   "cell_type": "markdown",
   "metadata": {},
   "source": [
    "## 3. Represent Deskewed/Scaled Data in DataFrames\n",
    "* `X_train_scaled_df`.\n",
    "* `X_test_scaled_df`."
   ]
  },
  {
   "cell_type": "code",
   "execution_count": 15,
   "metadata": {},
   "outputs": [
    {
     "data": {
      "text/html": [
       "<div>\n",
       "<table border=\"1\" class=\"dataframe\">\n",
       "  <thead>\n",
       "    <tr style=\"text-align: right;\">\n",
       "      <th></th>\n",
       "      <th>Response_Rate</th>\n",
       "      <th>Total_Employees</th>\n",
       "      <th>VMT/\n",
       "Employee</th>\n",
       "      <th>Goal_VMT</th>\n",
       "      <th>Total_VMT</th>\n",
       "      <th>Total_Goal_VMT</th>\n",
       "      <th>Total_Annual_Greenhouse_Gas_Emissions_-__All_Employees_(Metric_Tons_CO2e)</th>\n",
       "      <th>Daily_Roundtrip_GHG_Per_Employee_(Pounds)</th>\n",
       "      <th>Weekly_CWW_Days</th>\n",
       "      <th>Weekly_Overnight_Business_Trip</th>\n",
       "      <th>...</th>\n",
       "      <th>num_employees_using_bike_subsidy</th>\n",
       "      <th>num_employees_using_other_transportation_subsidy</th>\n",
       "      <th>num_parking_spaces_reserved_for_employee_usage</th>\n",
       "      <th>num_HOV_parking_spaces</th>\n",
       "      <th>num_shared_parking_spaces</th>\n",
       "      <th>cost_of_program_in_past_year</th>\n",
       "      <th>cost_of_meeting_program_requirements</th>\n",
       "      <th>cost_of_financial_incentives_subsidies_paid_to_employees</th>\n",
       "      <th>cost_of_facility_upkeep</th>\n",
       "      <th>cost_of_other</th>\n",
       "    </tr>\n",
       "  </thead>\n",
       "  <tbody>\n",
       "    <tr>\n",
       "      <th>134</th>\n",
       "      <td>0.456246</td>\n",
       "      <td>-1.741409</td>\n",
       "      <td>-0.837291</td>\n",
       "      <td>-2.030305</td>\n",
       "      <td>-1.648725</td>\n",
       "      <td>-1.964458</td>\n",
       "      <td>-1.626407</td>\n",
       "      <td>-0.913909</td>\n",
       "      <td>-1.250537</td>\n",
       "      <td>0.293563</td>\n",
       "      <td>...</td>\n",
       "      <td>-0.493101</td>\n",
       "      <td>-0.36415</td>\n",
       "      <td>-1.169933</td>\n",
       "      <td>-0.693884</td>\n",
       "      <td>-0.659225</td>\n",
       "      <td>-1.470294</td>\n",
       "      <td>-1.228342</td>\n",
       "      <td>0.956089</td>\n",
       "      <td>-0.616545</td>\n",
       "      <td>-0.413481</td>\n",
       "    </tr>\n",
       "    <tr>\n",
       "      <th>410</th>\n",
       "      <td>2.259471</td>\n",
       "      <td>0.858069</td>\n",
       "      <td>0.587983</td>\n",
       "      <td>0.544787</td>\n",
       "      <td>0.963780</td>\n",
       "      <td>0.566393</td>\n",
       "      <td>0.903881</td>\n",
       "      <td>0.612237</td>\n",
       "      <td>0.555684</td>\n",
       "      <td>-1.419059</td>\n",
       "      <td>...</td>\n",
       "      <td>2.029609</td>\n",
       "      <td>-0.36415</td>\n",
       "      <td>0.930982</td>\n",
       "      <td>1.460636</td>\n",
       "      <td>1.541344</td>\n",
       "      <td>0.072496</td>\n",
       "      <td>0.564846</td>\n",
       "      <td>0.407263</td>\n",
       "      <td>1.624221</td>\n",
       "      <td>-0.413481</td>\n",
       "    </tr>\n",
       "    <tr>\n",
       "      <th>43</th>\n",
       "      <td>0.269411</td>\n",
       "      <td>-0.195934</td>\n",
       "      <td>0.189247</td>\n",
       "      <td>0.682996</td>\n",
       "      <td>0.146021</td>\n",
       "      <td>0.602948</td>\n",
       "      <td>-0.028154</td>\n",
       "      <td>0.207436</td>\n",
       "      <td>0.768923</td>\n",
       "      <td>0.712107</td>\n",
       "      <td>...</td>\n",
       "      <td>-0.493101</td>\n",
       "      <td>-0.36415</td>\n",
       "      <td>0.880743</td>\n",
       "      <td>-0.693884</td>\n",
       "      <td>-0.659225</td>\n",
       "      <td>0.451868</td>\n",
       "      <td>0.678434</td>\n",
       "      <td>-1.115292</td>\n",
       "      <td>-0.616545</td>\n",
       "      <td>-0.413481</td>\n",
       "    </tr>\n",
       "    <tr>\n",
       "      <th>710</th>\n",
       "      <td>0.532237</td>\n",
       "      <td>-0.395032</td>\n",
       "      <td>0.863619</td>\n",
       "      <td>0.760370</td>\n",
       "      <td>0.455975</td>\n",
       "      <td>0.490265</td>\n",
       "      <td>0.177673</td>\n",
       "      <td>0.872940</td>\n",
       "      <td>0.723289</td>\n",
       "      <td>-1.419059</td>\n",
       "      <td>...</td>\n",
       "      <td>-0.493101</td>\n",
       "      <td>-0.36415</td>\n",
       "      <td>0.621417</td>\n",
       "      <td>-0.693884</td>\n",
       "      <td>-0.659225</td>\n",
       "      <td>0.585624</td>\n",
       "      <td>0.744948</td>\n",
       "      <td>0.986381</td>\n",
       "      <td>-0.616545</td>\n",
       "      <td>-0.413481</td>\n",
       "    </tr>\n",
       "    <tr>\n",
       "      <th>718</th>\n",
       "      <td>-0.637704</td>\n",
       "      <td>1.238708</td>\n",
       "      <td>-0.284978</td>\n",
       "      <td>0.498480</td>\n",
       "      <td>-0.098461</td>\n",
       "      <td>0.506806</td>\n",
       "      <td>0.791365</td>\n",
       "      <td>-0.363963</td>\n",
       "      <td>0.723289</td>\n",
       "      <td>0.504873</td>\n",
       "      <td>...</td>\n",
       "      <td>-0.493101</td>\n",
       "      <td>-0.36415</td>\n",
       "      <td>0.787347</td>\n",
       "      <td>1.460636</td>\n",
       "      <td>1.553309</td>\n",
       "      <td>0.496422</td>\n",
       "      <td>0.825845</td>\n",
       "      <td>0.524255</td>\n",
       "      <td>-0.616545</td>\n",
       "      <td>-0.413481</td>\n",
       "    </tr>\n",
       "  </tbody>\n",
       "</table>\n",
       "<p>5 rows × 39 columns</p>\n",
       "</div>"
      ],
      "text/plain": [
       "     Response_Rate  Total_Employees  VMT/\\nEmployee  Goal_VMT  Total_VMT  \\\n",
       "134       0.456246        -1.741409       -0.837291 -2.030305  -1.648725   \n",
       "410       2.259471         0.858069        0.587983  0.544787   0.963780   \n",
       "43        0.269411        -0.195934        0.189247  0.682996   0.146021   \n",
       "710       0.532237        -0.395032        0.863619  0.760370   0.455975   \n",
       "718      -0.637704         1.238708       -0.284978  0.498480  -0.098461   \n",
       "\n",
       "     Total_Goal_VMT  \\\n",
       "134       -1.964458   \n",
       "410        0.566393   \n",
       "43         0.602948   \n",
       "710        0.490265   \n",
       "718        0.506806   \n",
       "\n",
       "     Total_Annual_Greenhouse_Gas_Emissions_-__All_Employees_(Metric_Tons_CO2e)  \\\n",
       "134                                          -1.626407                           \n",
       "410                                           0.903881                           \n",
       "43                                           -0.028154                           \n",
       "710                                           0.177673                           \n",
       "718                                           0.791365                           \n",
       "\n",
       "     Daily_Roundtrip_GHG_Per_Employee_(Pounds)  Weekly_CWW_Days  \\\n",
       "134                                  -0.913909        -1.250537   \n",
       "410                                   0.612237         0.555684   \n",
       "43                                    0.207436         0.768923   \n",
       "710                                   0.872940         0.723289   \n",
       "718                                  -0.363963         0.723289   \n",
       "\n",
       "     Weekly_Overnight_Business_Trip      ...        \\\n",
       "134                        0.293563      ...         \n",
       "410                       -1.419059      ...         \n",
       "43                         0.712107      ...         \n",
       "710                       -1.419059      ...         \n",
       "718                        0.504873      ...         \n",
       "\n",
       "     num_employees_using_bike_subsidy  \\\n",
       "134                         -0.493101   \n",
       "410                          2.029609   \n",
       "43                          -0.493101   \n",
       "710                         -0.493101   \n",
       "718                         -0.493101   \n",
       "\n",
       "     num_employees_using_other_transportation_subsidy  \\\n",
       "134                                          -0.36415   \n",
       "410                                          -0.36415   \n",
       "43                                           -0.36415   \n",
       "710                                          -0.36415   \n",
       "718                                          -0.36415   \n",
       "\n",
       "     num_parking_spaces_reserved_for_employee_usage  num_HOV_parking_spaces  \\\n",
       "134                                       -1.169933               -0.693884   \n",
       "410                                        0.930982                1.460636   \n",
       "43                                         0.880743               -0.693884   \n",
       "710                                        0.621417               -0.693884   \n",
       "718                                        0.787347                1.460636   \n",
       "\n",
       "     num_shared_parking_spaces  cost_of_program_in_past_year  \\\n",
       "134                  -0.659225                     -1.470294   \n",
       "410                   1.541344                      0.072496   \n",
       "43                   -0.659225                      0.451868   \n",
       "710                  -0.659225                      0.585624   \n",
       "718                   1.553309                      0.496422   \n",
       "\n",
       "     cost_of_meeting_program_requirements  \\\n",
       "134                             -1.228342   \n",
       "410                              0.564846   \n",
       "43                               0.678434   \n",
       "710                              0.744948   \n",
       "718                              0.825845   \n",
       "\n",
       "     cost_of_financial_incentives_subsidies_paid_to_employees  \\\n",
       "134                                           0.956089          \n",
       "410                                           0.407263          \n",
       "43                                           -1.115292          \n",
       "710                                           0.986381          \n",
       "718                                           0.524255          \n",
       "\n",
       "     cost_of_facility_upkeep  cost_of_other  \n",
       "134                -0.616545      -0.413481  \n",
       "410                 1.624221      -0.413481  \n",
       "43                 -0.616545      -0.413481  \n",
       "710                -0.616545      -0.413481  \n",
       "718                -0.616545      -0.413481  \n",
       "\n",
       "[5 rows x 39 columns]"
      ]
     },
     "execution_count": 15,
     "metadata": {},
     "output_type": "execute_result"
    }
   ],
   "source": [
    "X_train_scaled_df = pd.DataFrame(X_train_scaled,\n",
    "                                 columns=X_train_numeric.columns,\n",
    "                                 index=X_train.index)\n",
    "X_train_scaled_df.head()"
   ]
  },
  {
   "cell_type": "code",
   "execution_count": 16,
   "metadata": {},
   "outputs": [
    {
     "data": {
      "text/html": [
       "<div>\n",
       "<table border=\"1\" class=\"dataframe\">\n",
       "  <thead>\n",
       "    <tr style=\"text-align: right;\">\n",
       "      <th></th>\n",
       "      <th>Response_Rate</th>\n",
       "      <th>Total_Employees</th>\n",
       "      <th>VMT/\n",
       "Employee</th>\n",
       "      <th>Goal_VMT</th>\n",
       "      <th>Total_VMT</th>\n",
       "      <th>Total_Goal_VMT</th>\n",
       "      <th>Total_Annual_Greenhouse_Gas_Emissions_-__All_Employees_(Metric_Tons_CO2e)</th>\n",
       "      <th>Daily_Roundtrip_GHG_Per_Employee_(Pounds)</th>\n",
       "      <th>Weekly_CWW_Days</th>\n",
       "      <th>Weekly_Overnight_Business_Trip</th>\n",
       "      <th>...</th>\n",
       "      <th>num_employees_using_bike_subsidy</th>\n",
       "      <th>num_employees_using_other_transportation_subsidy</th>\n",
       "      <th>num_parking_spaces_reserved_for_employee_usage</th>\n",
       "      <th>num_HOV_parking_spaces</th>\n",
       "      <th>num_shared_parking_spaces</th>\n",
       "      <th>cost_of_program_in_past_year</th>\n",
       "      <th>cost_of_meeting_program_requirements</th>\n",
       "      <th>cost_of_financial_incentives_subsidies_paid_to_employees</th>\n",
       "      <th>cost_of_facility_upkeep</th>\n",
       "      <th>cost_of_other</th>\n",
       "    </tr>\n",
       "  </thead>\n",
       "  <tbody>\n",
       "    <tr>\n",
       "      <th>231</th>\n",
       "      <td>1.258809</td>\n",
       "      <td>0.270873</td>\n",
       "      <td>1.005276</td>\n",
       "      <td>0.786664</td>\n",
       "      <td>1.026471</td>\n",
       "      <td>0.684649</td>\n",
       "      <td>0.712330</td>\n",
       "      <td>1.026440</td>\n",
       "      <td>0.660217</td>\n",
       "      <td>-1.419059</td>\n",
       "      <td>...</td>\n",
       "      <td>-0.493101</td>\n",
       "      <td>-0.36415</td>\n",
       "      <td>0.847570</td>\n",
       "      <td>1.433742</td>\n",
       "      <td>-0.659225</td>\n",
       "      <td>0.762388</td>\n",
       "      <td>-1.228342</td>\n",
       "      <td>-1.115292</td>\n",
       "      <td>1.645262</td>\n",
       "      <td>-0.413481</td>\n",
       "    </tr>\n",
       "    <tr>\n",
       "      <th>58</th>\n",
       "      <td>0.297150</td>\n",
       "      <td>-0.179586</td>\n",
       "      <td>-1.586423</td>\n",
       "      <td>-2.030305</td>\n",
       "      <td>-1.693471</td>\n",
       "      <td>-1.964458</td>\n",
       "      <td>-1.253397</td>\n",
       "      <td>-1.655216</td>\n",
       "      <td>0.555684</td>\n",
       "      <td>0.610508</td>\n",
       "      <td>...</td>\n",
       "      <td>-0.493101</td>\n",
       "      <td>-0.36415</td>\n",
       "      <td>-1.169933</td>\n",
       "      <td>-0.693884</td>\n",
       "      <td>-0.659225</td>\n",
       "      <td>0.243269</td>\n",
       "      <td>0.792020</td>\n",
       "      <td>0.899306</td>\n",
       "      <td>-0.616545</td>\n",
       "      <td>-0.413481</td>\n",
       "    </tr>\n",
       "    <tr>\n",
       "      <th>614</th>\n",
       "      <td>-0.020179</td>\n",
       "      <td>-0.388417</td>\n",
       "      <td>1.811998</td>\n",
       "      <td>1.034533</td>\n",
       "      <td>0.887389</td>\n",
       "      <td>0.537382</td>\n",
       "      <td>0.676779</td>\n",
       "      <td>1.839676</td>\n",
       "      <td>0.723289</td>\n",
       "      <td>-1.419059</td>\n",
       "      <td>...</td>\n",
       "      <td>-0.493101</td>\n",
       "      <td>-0.36415</td>\n",
       "      <td>0.903914</td>\n",
       "      <td>1.421742</td>\n",
       "      <td>-0.659225</td>\n",
       "      <td>0.886196</td>\n",
       "      <td>1.021792</td>\n",
       "      <td>1.249013</td>\n",
       "      <td>1.641478</td>\n",
       "      <td>-0.413481</td>\n",
       "    </tr>\n",
       "    <tr>\n",
       "      <th>404</th>\n",
       "      <td>2.316566</td>\n",
       "      <td>1.488512</td>\n",
       "      <td>0.826552</td>\n",
       "      <td>0.675550</td>\n",
       "      <td>1.701801</td>\n",
       "      <td>0.929962</td>\n",
       "      <td>1.545771</td>\n",
       "      <td>0.844571</td>\n",
       "      <td>1.097850</td>\n",
       "      <td>-1.419059</td>\n",
       "      <td>...</td>\n",
       "      <td>-0.493101</td>\n",
       "      <td>-0.36415</td>\n",
       "      <td>0.994716</td>\n",
       "      <td>1.476400</td>\n",
       "      <td>-0.659225</td>\n",
       "      <td>-1.470294</td>\n",
       "      <td>-1.228342</td>\n",
       "      <td>-1.115292</td>\n",
       "      <td>-0.616545</td>\n",
       "      <td>-0.413481</td>\n",
       "    </tr>\n",
       "    <tr>\n",
       "      <th>628</th>\n",
       "      <td>2.078644</td>\n",
       "      <td>0.532725</td>\n",
       "      <td>0.730687</td>\n",
       "      <td>0.668029</td>\n",
       "      <td>0.724611</td>\n",
       "      <td>0.377252</td>\n",
       "      <td>0.587073</td>\n",
       "      <td>0.746936</td>\n",
       "      <td>0.901621</td>\n",
       "      <td>0.293563</td>\n",
       "      <td>...</td>\n",
       "      <td>-0.493101</td>\n",
       "      <td>-0.36415</td>\n",
       "      <td>1.033583</td>\n",
       "      <td>1.408057</td>\n",
       "      <td>-0.659225</td>\n",
       "      <td>-1.470294</td>\n",
       "      <td>-1.228342</td>\n",
       "      <td>-1.115292</td>\n",
       "      <td>-0.616545</td>\n",
       "      <td>-0.413481</td>\n",
       "    </tr>\n",
       "  </tbody>\n",
       "</table>\n",
       "<p>5 rows × 39 columns</p>\n",
       "</div>"
      ],
      "text/plain": [
       "     Response_Rate  Total_Employees  VMT/\\nEmployee  Goal_VMT  Total_VMT  \\\n",
       "231       1.258809         0.270873        1.005276  0.786664   1.026471   \n",
       "58        0.297150        -0.179586       -1.586423 -2.030305  -1.693471   \n",
       "614      -0.020179        -0.388417        1.811998  1.034533   0.887389   \n",
       "404       2.316566         1.488512        0.826552  0.675550   1.701801   \n",
       "628       2.078644         0.532725        0.730687  0.668029   0.724611   \n",
       "\n",
       "     Total_Goal_VMT  \\\n",
       "231        0.684649   \n",
       "58        -1.964458   \n",
       "614        0.537382   \n",
       "404        0.929962   \n",
       "628        0.377252   \n",
       "\n",
       "     Total_Annual_Greenhouse_Gas_Emissions_-__All_Employees_(Metric_Tons_CO2e)  \\\n",
       "231                                           0.712330                           \n",
       "58                                           -1.253397                           \n",
       "614                                           0.676779                           \n",
       "404                                           1.545771                           \n",
       "628                                           0.587073                           \n",
       "\n",
       "     Daily_Roundtrip_GHG_Per_Employee_(Pounds)  Weekly_CWW_Days  \\\n",
       "231                                   1.026440         0.660217   \n",
       "58                                   -1.655216         0.555684   \n",
       "614                                   1.839676         0.723289   \n",
       "404                                   0.844571         1.097850   \n",
       "628                                   0.746936         0.901621   \n",
       "\n",
       "     Weekly_Overnight_Business_Trip      ...        \\\n",
       "231                       -1.419059      ...         \n",
       "58                         0.610508      ...         \n",
       "614                       -1.419059      ...         \n",
       "404                       -1.419059      ...         \n",
       "628                        0.293563      ...         \n",
       "\n",
       "     num_employees_using_bike_subsidy  \\\n",
       "231                         -0.493101   \n",
       "58                          -0.493101   \n",
       "614                         -0.493101   \n",
       "404                         -0.493101   \n",
       "628                         -0.493101   \n",
       "\n",
       "     num_employees_using_other_transportation_subsidy  \\\n",
       "231                                          -0.36415   \n",
       "58                                           -0.36415   \n",
       "614                                          -0.36415   \n",
       "404                                          -0.36415   \n",
       "628                                          -0.36415   \n",
       "\n",
       "     num_parking_spaces_reserved_for_employee_usage  num_HOV_parking_spaces  \\\n",
       "231                                        0.847570                1.433742   \n",
       "58                                        -1.169933               -0.693884   \n",
       "614                                        0.903914                1.421742   \n",
       "404                                        0.994716                1.476400   \n",
       "628                                        1.033583                1.408057   \n",
       "\n",
       "     num_shared_parking_spaces  cost_of_program_in_past_year  \\\n",
       "231                  -0.659225                      0.762388   \n",
       "58                   -0.659225                      0.243269   \n",
       "614                  -0.659225                      0.886196   \n",
       "404                  -0.659225                     -1.470294   \n",
       "628                  -0.659225                     -1.470294   \n",
       "\n",
       "     cost_of_meeting_program_requirements  \\\n",
       "231                             -1.228342   \n",
       "58                               0.792020   \n",
       "614                              1.021792   \n",
       "404                             -1.228342   \n",
       "628                             -1.228342   \n",
       "\n",
       "     cost_of_financial_incentives_subsidies_paid_to_employees  \\\n",
       "231                                          -1.115292          \n",
       "58                                            0.899306          \n",
       "614                                           1.249013          \n",
       "404                                          -1.115292          \n",
       "628                                          -1.115292          \n",
       "\n",
       "     cost_of_facility_upkeep  cost_of_other  \n",
       "231                 1.645262      -0.413481  \n",
       "58                 -0.616545      -0.413481  \n",
       "614                 1.641478      -0.413481  \n",
       "404                -0.616545      -0.413481  \n",
       "628                -0.616545      -0.413481  \n",
       "\n",
       "[5 rows x 39 columns]"
      ]
     },
     "execution_count": 16,
     "metadata": {},
     "output_type": "execute_result"
    }
   ],
   "source": [
    "X_test_scaled_df = pd.DataFrame(X_test_scaled,\n",
    "                                 columns=X_test_numeric.columns,\n",
    "                                 index=X_test.index)\n",
    "X_test_scaled_df.head()"
   ]
  },
  {
   "cell_type": "markdown",
   "metadata": {},
   "source": [
    "## 4. Encode Categorical Columns and Replace Raw Numeric Values in `X_train` and `X_test` with Deskewed/Scaled Values\n",
    "* Delete UUID columns, do not want to predict on UUID\n",
    "* Encode `X_train` and `X_test`\n",
    "* Replace deskewed/scaled numeric features into the dataset in appropriate columns."
   ]
  },
  {
   "cell_type": "code",
   "execution_count": 17,
   "metadata": {},
   "outputs": [
    {
     "name": "stderr",
     "output_type": "stream",
     "text": [
      "/opt/conda/lib/python3.6/site-packages/ipykernel_launcher.py:1: SettingWithCopyWarning: \n",
      "A value is trying to be set on a copy of a slice from a DataFrame\n",
      "\n",
      "See the caveats in the documentation: http://pandas.pydata.org/pandas-docs/stable/indexing.html#indexing-view-versus-copy\n",
      "  \"\"\"Entry point for launching an IPython kernel.\n",
      "/opt/conda/lib/python3.6/site-packages/ipykernel_launcher.py:2: SettingWithCopyWarning: \n",
      "A value is trying to be set on a copy of a slice from a DataFrame\n",
      "\n",
      "See the caveats in the documentation: http://pandas.pydata.org/pandas-docs/stable/indexing.html#indexing-view-versus-copy\n",
      "  \n"
     ]
    }
   ],
   "source": [
    "X_train.drop(['UUID'], axis=1, inplace=True)\n",
    "X_test.drop(['UUID'], axis=1, inplace=True)"
   ]
  },
  {
   "cell_type": "code",
   "execution_count": 18,
   "metadata": {
    "scrolled": true
   },
   "outputs": [],
   "source": [
    "X_train_dummies = pd.get_dummies(X_train)\n",
    "X_test_dummies  = pd.get_dummies(X_test)"
   ]
  },
  {
   "cell_type": "code",
   "execution_count": 19,
   "metadata": {},
   "outputs": [],
   "source": [
    "for col in X_train_scaled_df.columns:\n",
    "    X_train_dummies[col] = X_train_scaled_df[col]"
   ]
  },
  {
   "cell_type": "code",
   "execution_count": 20,
   "metadata": {},
   "outputs": [],
   "source": [
    "for col in X_test_scaled_df.columns:\n",
    "    X_test_dummies[col] = X_test_scaled_df[col]"
   ]
  },
  {
   "cell_type": "code",
   "execution_count": 21,
   "metadata": {},
   "outputs": [
    {
     "data": {
      "text/plain": [
       "((312, 1158), (726, 1158), (726,), (312,))"
      ]
     },
     "execution_count": 21,
     "metadata": {},
     "output_type": "execute_result"
    }
   ],
   "source": [
    "X_test_dummies.shape, X_train_dummies.shape, y_train.shape, y_test.shape"
   ]
  },
  {
   "cell_type": "markdown",
   "metadata": {},
   "source": [
    "## 5. Pickling and Saving\n",
    "* encoded categorical/normed numeric dataframe for benchmark scoring\n",
    "* numeric deskewed/scaled for outlier removal."
   ]
  },
  {
   "cell_type": "code",
   "execution_count": 22,
   "metadata": {},
   "outputs": [],
   "source": [
    "X_test_dummies.to_pickle('./data/X_test_dummies_df.pkl')\n",
    "X_train_dummies.to_pickle('./data/X_train_dummies_df.pkl')\n",
    "\n",
    "y_train.to_pickle('./data/y_train.pkl')\n",
    "y_test.to_pickle('./data/y_test.pkl')"
   ]
  },
  {
   "cell_type": "code",
   "execution_count": null,
   "metadata": {},
   "outputs": [],
   "source": []
  }
 ],
 "metadata": {
  "kernelspec": {
   "display_name": "Python 3",
   "language": "python",
   "name": "python3"
  },
  "language_info": {
   "codemirror_mode": {
    "name": "ipython",
    "version": 3
   },
   "file_extension": ".py",
   "mimetype": "text/x-python",
   "name": "python",
   "nbconvert_exporter": "python",
   "pygments_lexer": "ipython3",
   "version": "3.6.2"
  }
 },
 "nbformat": 4,
 "nbformat_minor": 2
}
