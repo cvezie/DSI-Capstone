{
 "cells": [
  {
   "cell_type": "markdown",
   "metadata": {},
   "source": [
    "# Benchmarking\n",
    "\n",
    "####  Goals\n",
    "* Benchmark scores\n",
    "\n",
    "#### Output Test Scores\n",
    "* LassoCV: 0.993195\n",
    "* BayesianRidge: 0.988513\n",
    "* DecisionTree: 0.997252\n",
    "* KNN: 0.713102"
   ]
  },
  {
   "cell_type": "code",
   "execution_count": 1,
   "metadata": {},
   "outputs": [
    {
     "name": "stdout",
     "output_type": "stream",
     "text": [
      "/home/jovyan/dsi/CAPSTONE\n"
     ]
    }
   ],
   "source": [
    "cd .."
   ]
  },
  {
   "cell_type": "code",
   "execution_count": 2,
   "metadata": {},
   "outputs": [],
   "source": [
    "%run lib/__init__.py\n",
    "%matplotlib inline"
   ]
  },
  {
   "cell_type": "code",
   "execution_count": 3,
   "metadata": {
    "scrolled": true
   },
   "outputs": [],
   "source": [
    "commute_normed_pca_df = pd.read_pickle('./data/commute_normed_pca_df.pkl')"
   ]
  },
  {
   "cell_type": "markdown",
   "metadata": {},
   "source": [
    "## 1. Benchmark Models"
   ]
  },
  {
   "cell_type": "code",
   "execution_count": 4,
   "metadata": {},
   "outputs": [],
   "source": [
    "# deskew data before fitting model.\n",
    "def benchmark_score(model, model_name, data, target):\n",
    "    X_train, X_test, y_train, y_test = train_test_split(data, target, test_size=0.25)\n",
    "    \n",
    "    scaler      = StandardScaler()\n",
    "    scaler.fit(X_train)\n",
    "    X_train_sc  = scaler.transform(X_train)\n",
    "    X_test_sc   = scaler.transform(X_test)\n",
    "    \n",
    "    model       = model()\n",
    "    model.fit(X_train_sc, y_train)\n",
    "    train_score = model.score(X_train_sc, y_train)\n",
    "    test_score  = model.score(X_test_sc, y_test)\n",
    "    \n",
    "    output = []\n",
    "    output.append({'model name'  : model_name,\n",
    "                  'train score' : train_score,\n",
    "                  'test score'  : test_score})\n",
    "    return output"
   ]
  },
  {
   "cell_type": "code",
   "execution_count": 5,
   "metadata": {},
   "outputs": [],
   "source": [
    "data    = commute_normed_pca_df.drop(['ndat_rate'], axis=1)\n",
    "target  = commute_normed_pca_df['ndat_rate']\n",
    "results = []"
   ]
  },
  {
   "cell_type": "markdown",
   "metadata": {},
   "source": [
    "### Lasso"
   ]
  },
  {
   "cell_type": "code",
   "execution_count": 6,
   "metadata": {
    "scrolled": true
   },
   "outputs": [],
   "source": [
    "lasso_bm = benchmark_score(LassoCV, 'LassoCV (bm)', data, target)\n",
    "results += lasso_bm"
   ]
  },
  {
   "cell_type": "markdown",
   "metadata": {},
   "source": [
    "### Bayesian Ridge Regression"
   ]
  },
  {
   "cell_type": "code",
   "execution_count": 7,
   "metadata": {},
   "outputs": [],
   "source": [
    "bayesian_ridge_bm = benchmark_score(BayesianRidge, 'BayesianRidge (bm)', data, target)\n",
    "results += bayesian_ridge_bm"
   ]
  },
  {
   "cell_type": "markdown",
   "metadata": {},
   "source": [
    "### Decision Tree"
   ]
  },
  {
   "cell_type": "code",
   "execution_count": 8,
   "metadata": {},
   "outputs": [],
   "source": [
    "decision_tree_bm = benchmark_score(DecisionTreeRegressor, 'DecisionTree (bm)', data, target)\n",
    "results += decision_tree_bm"
   ]
  },
  {
   "cell_type": "markdown",
   "metadata": {},
   "source": [
    "### KNN"
   ]
  },
  {
   "cell_type": "code",
   "execution_count": 9,
   "metadata": {},
   "outputs": [],
   "source": [
    "knn_bm = benchmark_score(KNeighborsRegressor, 'KNN (bm)', data, target)\n",
    "results += knn_bm"
   ]
  },
  {
   "cell_type": "markdown",
   "metadata": {},
   "source": [
    "## 2. Display Benchmark Scores"
   ]
  },
  {
   "cell_type": "code",
   "execution_count": 10,
   "metadata": {},
   "outputs": [
    {
     "data": {
      "text/html": [
       "<div>\n",
       "<table border=\"1\" class=\"dataframe\">\n",
       "  <thead>\n",
       "    <tr style=\"text-align: right;\">\n",
       "      <th></th>\n",
       "      <th>model name</th>\n",
       "      <th>test score</th>\n",
       "      <th>train score</th>\n",
       "    </tr>\n",
       "  </thead>\n",
       "  <tbody>\n",
       "    <tr>\n",
       "      <th>0</th>\n",
       "      <td>LassoCV (bm)</td>\n",
       "      <td>0.993009</td>\n",
       "      <td>0.996992</td>\n",
       "    </tr>\n",
       "    <tr>\n",
       "      <th>1</th>\n",
       "      <td>BayesianRidge (bm)</td>\n",
       "      <td>0.990654</td>\n",
       "      <td>0.996368</td>\n",
       "    </tr>\n",
       "    <tr>\n",
       "      <th>2</th>\n",
       "      <td>DecisionTree (bm)</td>\n",
       "      <td>0.998165</td>\n",
       "      <td>1.000000</td>\n",
       "    </tr>\n",
       "    <tr>\n",
       "      <th>3</th>\n",
       "      <td>KNN (bm)</td>\n",
       "      <td>0.642777</td>\n",
       "      <td>0.828757</td>\n",
       "    </tr>\n",
       "  </tbody>\n",
       "</table>\n",
       "</div>"
      ],
      "text/plain": [
       "           model name  test score  train score\n",
       "0        LassoCV (bm)    0.993009     0.996992\n",
       "1  BayesianRidge (bm)    0.990654     0.996368\n",
       "2   DecisionTree (bm)    0.998165     1.000000\n",
       "3            KNN (bm)    0.642777     0.828757"
      ]
     },
     "execution_count": 10,
     "metadata": {},
     "output_type": "execute_result"
    }
   ],
   "source": [
    "results_df = pd.DataFrame(results)\n",
    "results_df"
   ]
  },
  {
   "cell_type": "markdown",
   "metadata": {},
   "source": [
    "## 3. Pickling"
   ]
  },
  {
   "cell_type": "code",
   "execution_count": 12,
   "metadata": {},
   "outputs": [],
   "source": [
    "results_df.to_pickle('./data/bm_results_df.pkl')"
   ]
  },
  {
   "cell_type": "code",
   "execution_count": null,
   "metadata": {},
   "outputs": [],
   "source": []
  }
 ],
 "metadata": {
  "kernelspec": {
   "display_name": "Python 3",
   "language": "python",
   "name": "python3"
  },
  "language_info": {
   "codemirror_mode": {
    "name": "ipython",
    "version": 3
   },
   "file_extension": ".py",
   "mimetype": "text/x-python",
   "name": "python",
   "nbconvert_exporter": "python",
   "pygments_lexer": "ipython3",
   "version": "3.6.2"
  }
 },
 "nbformat": 4,
 "nbformat_minor": 2
}
