{
 "cells": [
  {
   "cell_type": "markdown",
   "metadata": {},
   "source": [
    "# Benchmark Scoring\n",
    "\n",
    "####  Goals\n",
    "* Obtain a benchmark score using 4 different models.\n",
    "\n",
    "#### Output Scores\n",
    "* LassoCV: 0.960081\n",
    "* BayesianRidge: 0.971730\t\n",
    "* DecisionTree: 0.903889\t\n",
    "* KNN: 0.829156"
   ]
  },
  {
   "cell_type": "code",
   "execution_count": 1,
   "metadata": {},
   "outputs": [
    {
     "name": "stdout",
     "output_type": "stream",
     "text": [
      "/home/jovyan/dsi/CAPSTONE\n"
     ]
    }
   ],
   "source": [
    "cd .."
   ]
  },
  {
   "cell_type": "code",
   "execution_count": 2,
   "metadata": {},
   "outputs": [],
   "source": [
    "%run lib/__init__.py\n",
    "%matplotlib inline"
   ]
  },
  {
   "cell_type": "code",
   "execution_count": 3,
   "metadata": {},
   "outputs": [],
   "source": [
    "X_test = pd.read_pickle('./data/X_test_dummies_df.pkl')\n",
    "X_train = pd.read_pickle('./data/X_train_dummies_df.pkl')\n",
    "\n",
    "y_train = pd.read_pickle('./data/y_train.pkl')\n",
    "y_test = pd.read_pickle('./data/y_test.pkl')"
   ]
  },
  {
   "cell_type": "code",
   "execution_count": 4,
   "metadata": {},
   "outputs": [
    {
     "data": {
      "text/plain": [
       "((726, 1157), (726,))"
      ]
     },
     "execution_count": 4,
     "metadata": {},
     "output_type": "execute_result"
    }
   ],
   "source": [
    "X_train.shape, y_train.shape"
   ]
  },
  {
   "cell_type": "markdown",
   "metadata": {},
   "source": [
    "## 1. Benchmark Models"
   ]
  },
  {
   "cell_type": "code",
   "execution_count": 5,
   "metadata": {},
   "outputs": [],
   "source": [
    "# data is already deskewed and scaled.\n",
    "def benchmark_score(model, model_name, X_train, X_test, y_train, y_test):\n",
    "\n",
    "    model       = model()\n",
    "    model.fit(X_train, y_train)\n",
    "    train_score = model.score(X_train, y_train)\n",
    "    test_score  = model.score(X_test, y_test)\n",
    "    \n",
    "    output = []\n",
    "    output.append({'model name'  : model_name,\n",
    "                  'train score' : train_score,\n",
    "                  'test score'  : test_score})\n",
    "    return output"
   ]
  },
  {
   "cell_type": "code",
   "execution_count": 6,
   "metadata": {},
   "outputs": [],
   "source": [
    "results_bm = []"
   ]
  },
  {
   "cell_type": "markdown",
   "metadata": {},
   "source": [
    "### LassoCV"
   ]
  },
  {
   "cell_type": "code",
   "execution_count": 7,
   "metadata": {
    "scrolled": true
   },
   "outputs": [],
   "source": [
    "lasso_bm = benchmark_score(LassoCV, 'LassoCV (bm)', X_train, X_test, y_train, y_test)\n",
    "results_bm += lasso_bm"
   ]
  },
  {
   "cell_type": "markdown",
   "metadata": {},
   "source": [
    "### Bayesian Ridge Regressor"
   ]
  },
  {
   "cell_type": "code",
   "execution_count": 8,
   "metadata": {},
   "outputs": [],
   "source": [
    "bayesian_ridge_bm = benchmark_score(BayesianRidge, 'BayesianRidge (bm)', X_train, X_test, y_train, y_test)\n",
    "results_bm += bayesian_ridge_bm"
   ]
  },
  {
   "cell_type": "markdown",
   "metadata": {},
   "source": [
    "### Decision Tree Regressor"
   ]
  },
  {
   "cell_type": "code",
   "execution_count": 9,
   "metadata": {},
   "outputs": [],
   "source": [
    "decision_tree_bm = benchmark_score(DecisionTreeRegressor, 'DecisionTree (bm)', X_train, X_test, y_train, y_test)\n",
    "results_bm += decision_tree_bm"
   ]
  },
  {
   "cell_type": "markdown",
   "metadata": {},
   "source": [
    "### K Neighbors Regressor"
   ]
  },
  {
   "cell_type": "code",
   "execution_count": 10,
   "metadata": {},
   "outputs": [],
   "source": [
    "knn_bm = benchmark_score(KNeighborsRegressor, 'KNN (bm)', X_train, X_test, y_train, y_test)\n",
    "results_bm += knn_bm"
   ]
  },
  {
   "cell_type": "markdown",
   "metadata": {},
   "source": [
    "## 2. Display Benchmark Scores"
   ]
  },
  {
   "cell_type": "code",
   "execution_count": 11,
   "metadata": {},
   "outputs": [
    {
     "data": {
      "text/html": [
       "<div>\n",
       "<table border=\"1\" class=\"dataframe\">\n",
       "  <thead>\n",
       "    <tr style=\"text-align: right;\">\n",
       "      <th></th>\n",
       "      <th>model name</th>\n",
       "      <th>test score</th>\n",
       "      <th>train score</th>\n",
       "    </tr>\n",
       "  </thead>\n",
       "  <tbody>\n",
       "    <tr>\n",
       "      <th>0</th>\n",
       "      <td>LassoCV (bm)</td>\n",
       "      <td>0.960081</td>\n",
       "      <td>0.977035</td>\n",
       "    </tr>\n",
       "    <tr>\n",
       "      <th>1</th>\n",
       "      <td>BayesianRidge (bm)</td>\n",
       "      <td>0.971730</td>\n",
       "      <td>0.988538</td>\n",
       "    </tr>\n",
       "    <tr>\n",
       "      <th>2</th>\n",
       "      <td>DecisionTree (bm)</td>\n",
       "      <td>0.903889</td>\n",
       "      <td>1.000000</td>\n",
       "    </tr>\n",
       "    <tr>\n",
       "      <th>3</th>\n",
       "      <td>KNN (bm)</td>\n",
       "      <td>0.829156</td>\n",
       "      <td>0.907313</td>\n",
       "    </tr>\n",
       "  </tbody>\n",
       "</table>\n",
       "</div>"
      ],
      "text/plain": [
       "           model name  test score  train score\n",
       "0        LassoCV (bm)    0.960081     0.977035\n",
       "1  BayesianRidge (bm)    0.971730     0.988538\n",
       "2   DecisionTree (bm)    0.903889     1.000000\n",
       "3            KNN (bm)    0.829156     0.907313"
      ]
     },
     "execution_count": 11,
     "metadata": {},
     "output_type": "execute_result"
    }
   ],
   "source": [
    "results_bm_df = pd.DataFrame(results_bm)\n",
    "results_bm_df"
   ]
  },
  {
   "cell_type": "markdown",
   "metadata": {},
   "source": [
    "## 3. Pickling"
   ]
  },
  {
   "cell_type": "code",
   "execution_count": 12,
   "metadata": {},
   "outputs": [],
   "source": [
    "results_bm_df.to_pickle('./data/bm_results_df.pkl')"
   ]
  },
  {
   "cell_type": "code",
   "execution_count": null,
   "metadata": {},
   "outputs": [],
   "source": []
  }
 ],
 "metadata": {
  "kernelspec": {
   "display_name": "Python 3",
   "language": "python",
   "name": "python3"
  },
  "language_info": {
   "codemirror_mode": {
    "name": "ipython",
    "version": 3
   },
   "file_extension": ".py",
   "mimetype": "text/x-python",
   "name": "python",
   "nbconvert_exporter": "python",
   "pygments_lexer": "ipython3",
   "version": "3.6.2"
  }
 },
 "nbformat": 4,
 "nbformat_minor": 2
}
